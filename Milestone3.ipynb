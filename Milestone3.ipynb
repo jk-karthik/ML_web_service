{
  "nbformat": 4,
  "nbformat_minor": 0,
  "metadata": {
    "colab": {
      "name": "Milestone2.ipynb",
      "provenance": [],
      "collapsed_sections": []
    },
    "kernelspec": {
      "name": "python3",
      "display_name": "Python 3"
    }
  },
  "cells": [
    {
      "cell_type": "code",
      "metadata": {
        "id": "NnWsWiKUxsp9",
        "colab_type": "code",
        "colab": {
          "base_uri": "https://localhost:8080/",
          "height": 357
        },
        "outputId": "78b04bca-cfa4-4cb2-cfaa-b678c857ac60"
      },
      "source": [
        "!pip install yfinance"
      ],
      "execution_count": 2,
      "outputs": [
        {
          "output_type": "stream",
          "text": [
            "Collecting yfinance\n",
            "  Downloading https://files.pythonhosted.org/packages/c2/31/8b374a12b90def92a4e27d0fc595fc43635f395984e36a075244d98bd265/yfinance-0.1.54.tar.gz\n",
            "Requirement already satisfied: pandas>=0.24 in /usr/local/lib/python3.6/dist-packages (from yfinance) (1.0.5)\n",
            "Requirement already satisfied: numpy>=1.15 in /usr/local/lib/python3.6/dist-packages (from yfinance) (1.18.5)\n",
            "Requirement already satisfied: requests>=2.20 in /usr/local/lib/python3.6/dist-packages (from yfinance) (2.23.0)\n",
            "Requirement already satisfied: multitasking>=0.0.7 in /usr/local/lib/python3.6/dist-packages (from yfinance) (0.0.9)\n",
            "Requirement already satisfied: pytz>=2017.2 in /usr/local/lib/python3.6/dist-packages (from pandas>=0.24->yfinance) (2018.9)\n",
            "Requirement already satisfied: python-dateutil>=2.6.1 in /usr/local/lib/python3.6/dist-packages (from pandas>=0.24->yfinance) (2.8.1)\n",
            "Requirement already satisfied: certifi>=2017.4.17 in /usr/local/lib/python3.6/dist-packages (from requests>=2.20->yfinance) (2020.6.20)\n",
            "Requirement already satisfied: chardet<4,>=3.0.2 in /usr/local/lib/python3.6/dist-packages (from requests>=2.20->yfinance) (3.0.4)\n",
            "Requirement already satisfied: idna<3,>=2.5 in /usr/local/lib/python3.6/dist-packages (from requests>=2.20->yfinance) (2.10)\n",
            "Requirement already satisfied: urllib3!=1.25.0,!=1.25.1,<1.26,>=1.21.1 in /usr/local/lib/python3.6/dist-packages (from requests>=2.20->yfinance) (1.24.3)\n",
            "Requirement already satisfied: six>=1.5 in /usr/local/lib/python3.6/dist-packages (from python-dateutil>=2.6.1->pandas>=0.24->yfinance) (1.15.0)\n",
            "Building wheels for collected packages: yfinance\n",
            "  Building wheel for yfinance (setup.py) ... \u001b[?25l\u001b[?25hdone\n",
            "  Created wheel for yfinance: filename=yfinance-0.1.54-py2.py3-none-any.whl size=22409 sha256=bb3d64e5d2394ae27536fc251d7f4349fd5c3cced09a404a75718e6511114086\n",
            "  Stored in directory: /root/.cache/pip/wheels/f9/e3/5b/ec24dd2984b12d61e0abf26289746c2436a0e7844f26f2515c\n",
            "Successfully built yfinance\n",
            "Installing collected packages: yfinance\n",
            "Successfully installed yfinance-0.1.54\n"
          ],
          "name": "stdout"
        }
      ]
    },
    {
      "cell_type": "code",
      "metadata": {
        "id": "RnZ8aUM8xoDG",
        "colab_type": "code",
        "colab": {}
      },
      "source": [
        "import yfinance as yf\n",
        "import pandas as pd"
      ],
      "execution_count": 3,
      "outputs": []
    },
    {
      "cell_type": "code",
      "metadata": {
        "id": "bbziqp2rxvJH",
        "colab_type": "code",
        "colab": {
          "base_uri": "https://localhost:8080/",
          "height": 34
        },
        "outputId": "cbf34bff-c673-4088-b152-1675df2905dc"
      },
      "source": [
        "data=yf.download(\"AAPL\",start=\"2014-01-01\",end=\"2019-12-31\")"
      ],
      "execution_count": 147,
      "outputs": [
        {
          "output_type": "stream",
          "text": [
            "\r[*********************100%***********************]  1 of 1 completed\n"
          ],
          "name": "stdout"
        }
      ]
    },
    {
      "cell_type": "code",
      "metadata": {
        "id": "s9RXWhXV4bWn",
        "colab_type": "code",
        "colab": {
          "base_uri": "https://localhost:8080/",
          "height": 235
        },
        "outputId": "0cc1998d-4c66-42a9-ae5a-d875cb4c6797"
      },
      "source": [
        "data.head()"
      ],
      "execution_count": 148,
      "outputs": [
        {
          "output_type": "execute_result",
          "data": {
            "text/html": [
              "<div>\n",
              "<style scoped>\n",
              "    .dataframe tbody tr th:only-of-type {\n",
              "        vertical-align: middle;\n",
              "    }\n",
              "\n",
              "    .dataframe tbody tr th {\n",
              "        vertical-align: top;\n",
              "    }\n",
              "\n",
              "    .dataframe thead th {\n",
              "        text-align: right;\n",
              "    }\n",
              "</style>\n",
              "<table border=\"1\" class=\"dataframe\">\n",
              "  <thead>\n",
              "    <tr style=\"text-align: right;\">\n",
              "      <th></th>\n",
              "      <th>Open</th>\n",
              "      <th>High</th>\n",
              "      <th>Low</th>\n",
              "      <th>Close</th>\n",
              "      <th>Adj Close</th>\n",
              "      <th>Volume</th>\n",
              "    </tr>\n",
              "    <tr>\n",
              "      <th>Date</th>\n",
              "      <th></th>\n",
              "      <th></th>\n",
              "      <th></th>\n",
              "      <th></th>\n",
              "      <th></th>\n",
              "      <th></th>\n",
              "    </tr>\n",
              "  </thead>\n",
              "  <tbody>\n",
              "    <tr>\n",
              "      <th>2014-01-02</th>\n",
              "      <td>19.845715</td>\n",
              "      <td>19.893929</td>\n",
              "      <td>19.715000</td>\n",
              "      <td>19.754642</td>\n",
              "      <td>17.655001</td>\n",
              "      <td>234684800</td>\n",
              "    </tr>\n",
              "    <tr>\n",
              "      <th>2014-01-03</th>\n",
              "      <td>19.745001</td>\n",
              "      <td>19.775000</td>\n",
              "      <td>19.301071</td>\n",
              "      <td>19.320715</td>\n",
              "      <td>17.267195</td>\n",
              "      <td>392467600</td>\n",
              "    </tr>\n",
              "    <tr>\n",
              "      <th>2014-01-06</th>\n",
              "      <td>19.194643</td>\n",
              "      <td>19.528572</td>\n",
              "      <td>19.057142</td>\n",
              "      <td>19.426071</td>\n",
              "      <td>17.361351</td>\n",
              "      <td>412610800</td>\n",
              "    </tr>\n",
              "    <tr>\n",
              "      <th>2014-01-07</th>\n",
              "      <td>19.440001</td>\n",
              "      <td>19.498571</td>\n",
              "      <td>19.211428</td>\n",
              "      <td>19.287144</td>\n",
              "      <td>17.237186</td>\n",
              "      <td>317209200</td>\n",
              "    </tr>\n",
              "    <tr>\n",
              "      <th>2014-01-08</th>\n",
              "      <td>19.243214</td>\n",
              "      <td>19.484285</td>\n",
              "      <td>19.238928</td>\n",
              "      <td>19.409286</td>\n",
              "      <td>17.346355</td>\n",
              "      <td>258529600</td>\n",
              "    </tr>\n",
              "  </tbody>\n",
              "</table>\n",
              "</div>"
            ],
            "text/plain": [
              "                 Open       High        Low      Close  Adj Close     Volume\n",
              "Date                                                                        \n",
              "2014-01-02  19.845715  19.893929  19.715000  19.754642  17.655001  234684800\n",
              "2014-01-03  19.745001  19.775000  19.301071  19.320715  17.267195  392467600\n",
              "2014-01-06  19.194643  19.528572  19.057142  19.426071  17.361351  412610800\n",
              "2014-01-07  19.440001  19.498571  19.211428  19.287144  17.237186  317209200\n",
              "2014-01-08  19.243214  19.484285  19.238928  19.409286  17.346355  258529600"
            ]
          },
          "metadata": {
            "tags": []
          },
          "execution_count": 148
        }
      ]
    },
    {
      "cell_type": "code",
      "metadata": {
        "id": "b849bDxz68UT",
        "colab_type": "code",
        "colab": {
          "base_uri": "https://localhost:8080/",
          "height": 34
        },
        "outputId": "3fdcab79-9a0a-4edc-d5d6-4d48d0ecf9a5"
      },
      "source": [
        "len(data)"
      ],
      "execution_count": 149,
      "outputs": [
        {
          "output_type": "execute_result",
          "data": {
            "text/plain": [
              "1509"
            ]
          },
          "metadata": {
            "tags": []
          },
          "execution_count": 149
        }
      ]
    },
    {
      "cell_type": "code",
      "metadata": {
        "id": "IO9eC7CO4cr3",
        "colab_type": "code",
        "colab": {
          "base_uri": "https://localhost:8080/",
          "height": 450
        },
        "outputId": "f8fb7001-2adc-4c36-98bf-e3ef0854439f"
      },
      "source": [
        "data.loc[\"2015-01-02\":,:]"
      ],
      "execution_count": 151,
      "outputs": [
        {
          "output_type": "execute_result",
          "data": {
            "text/html": [
              "<div>\n",
              "<style scoped>\n",
              "    .dataframe tbody tr th:only-of-type {\n",
              "        vertical-align: middle;\n",
              "    }\n",
              "\n",
              "    .dataframe tbody tr th {\n",
              "        vertical-align: top;\n",
              "    }\n",
              "\n",
              "    .dataframe thead th {\n",
              "        text-align: right;\n",
              "    }\n",
              "</style>\n",
              "<table border=\"1\" class=\"dataframe\">\n",
              "  <thead>\n",
              "    <tr style=\"text-align: right;\">\n",
              "      <th></th>\n",
              "      <th>Open</th>\n",
              "      <th>High</th>\n",
              "      <th>Low</th>\n",
              "      <th>Close</th>\n",
              "      <th>Adj Close</th>\n",
              "      <th>Volume</th>\n",
              "    </tr>\n",
              "    <tr>\n",
              "      <th>Date</th>\n",
              "      <th></th>\n",
              "      <th></th>\n",
              "      <th></th>\n",
              "      <th></th>\n",
              "      <th></th>\n",
              "      <th></th>\n",
              "    </tr>\n",
              "  </thead>\n",
              "  <tbody>\n",
              "    <tr>\n",
              "      <th>2015-01-02</th>\n",
              "      <td>27.847500</td>\n",
              "      <td>27.860001</td>\n",
              "      <td>26.837500</td>\n",
              "      <td>27.332500</td>\n",
              "      <td>24.941502</td>\n",
              "      <td>212818400</td>\n",
              "    </tr>\n",
              "    <tr>\n",
              "      <th>2015-01-05</th>\n",
              "      <td>27.072500</td>\n",
              "      <td>27.162500</td>\n",
              "      <td>26.352501</td>\n",
              "      <td>26.562500</td>\n",
              "      <td>24.238857</td>\n",
              "      <td>257142000</td>\n",
              "    </tr>\n",
              "    <tr>\n",
              "      <th>2015-01-06</th>\n",
              "      <td>26.635000</td>\n",
              "      <td>26.857500</td>\n",
              "      <td>26.157499</td>\n",
              "      <td>26.565001</td>\n",
              "      <td>24.241146</td>\n",
              "      <td>263188400</td>\n",
              "    </tr>\n",
              "    <tr>\n",
              "      <th>2015-01-07</th>\n",
              "      <td>26.799999</td>\n",
              "      <td>27.049999</td>\n",
              "      <td>26.674999</td>\n",
              "      <td>26.937500</td>\n",
              "      <td>24.581060</td>\n",
              "      <td>160423600</td>\n",
              "    </tr>\n",
              "    <tr>\n",
              "      <th>2015-01-08</th>\n",
              "      <td>27.307501</td>\n",
              "      <td>28.037500</td>\n",
              "      <td>27.174999</td>\n",
              "      <td>27.972500</td>\n",
              "      <td>25.525522</td>\n",
              "      <td>237458000</td>\n",
              "    </tr>\n",
              "    <tr>\n",
              "      <th>...</th>\n",
              "      <td>...</td>\n",
              "      <td>...</td>\n",
              "      <td>...</td>\n",
              "      <td>...</td>\n",
              "      <td>...</td>\n",
              "      <td>...</td>\n",
              "    </tr>\n",
              "    <tr>\n",
              "      <th>2019-12-23</th>\n",
              "      <td>70.132500</td>\n",
              "      <td>71.062500</td>\n",
              "      <td>70.092499</td>\n",
              "      <td>71.000000</td>\n",
              "      <td>70.513535</td>\n",
              "      <td>98572000</td>\n",
              "    </tr>\n",
              "    <tr>\n",
              "      <th>2019-12-24</th>\n",
              "      <td>71.172501</td>\n",
              "      <td>71.222504</td>\n",
              "      <td>70.730003</td>\n",
              "      <td>71.067497</td>\n",
              "      <td>70.580566</td>\n",
              "      <td>48478800</td>\n",
              "    </tr>\n",
              "    <tr>\n",
              "      <th>2019-12-26</th>\n",
              "      <td>71.205002</td>\n",
              "      <td>72.495003</td>\n",
              "      <td>71.175003</td>\n",
              "      <td>72.477501</td>\n",
              "      <td>71.980911</td>\n",
              "      <td>93121200</td>\n",
              "    </tr>\n",
              "    <tr>\n",
              "      <th>2019-12-27</th>\n",
              "      <td>72.779999</td>\n",
              "      <td>73.492500</td>\n",
              "      <td>72.029999</td>\n",
              "      <td>72.449997</td>\n",
              "      <td>71.953598</td>\n",
              "      <td>146266000</td>\n",
              "    </tr>\n",
              "    <tr>\n",
              "      <th>2019-12-30</th>\n",
              "      <td>72.364998</td>\n",
              "      <td>73.172501</td>\n",
              "      <td>71.305000</td>\n",
              "      <td>72.879997</td>\n",
              "      <td>72.380653</td>\n",
              "      <td>144114400</td>\n",
              "    </tr>\n",
              "  </tbody>\n",
              "</table>\n",
              "<p>1257 rows × 6 columns</p>\n",
              "</div>"
            ],
            "text/plain": [
              "                 Open       High        Low      Close  Adj Close     Volume\n",
              "Date                                                                        \n",
              "2015-01-02  27.847500  27.860001  26.837500  27.332500  24.941502  212818400\n",
              "2015-01-05  27.072500  27.162500  26.352501  26.562500  24.238857  257142000\n",
              "2015-01-06  26.635000  26.857500  26.157499  26.565001  24.241146  263188400\n",
              "2015-01-07  26.799999  27.049999  26.674999  26.937500  24.581060  160423600\n",
              "2015-01-08  27.307501  28.037500  27.174999  27.972500  25.525522  237458000\n",
              "...               ...        ...        ...        ...        ...        ...\n",
              "2019-12-23  70.132500  71.062500  70.092499  71.000000  70.513535   98572000\n",
              "2019-12-24  71.172501  71.222504  70.730003  71.067497  70.580566   48478800\n",
              "2019-12-26  71.205002  72.495003  71.175003  72.477501  71.980911   93121200\n",
              "2019-12-27  72.779999  73.492500  72.029999  72.449997  71.953598  146266000\n",
              "2019-12-30  72.364998  73.172501  71.305000  72.879997  72.380653  144114400\n",
              "\n",
              "[1257 rows x 6 columns]"
            ]
          },
          "metadata": {
            "tags": []
          },
          "execution_count": 151
        }
      ]
    },
    {
      "cell_type": "code",
      "metadata": {
        "id": "qx2RPsjQ5c8o",
        "colab_type": "code",
        "colab": {}
      },
      "source": [
        "def PER(p):\n",
        "  # print(p)\n",
        "  r=[]\n",
        "  for i in range(0,252):\n",
        "    r+=[-1]\n",
        "  for i in range(252,len(p)):\n",
        "    r+=[p[i]-p[i-252]]\n",
        "  return r\n",
        "\n"
      ],
      "execution_count": 152,
      "outputs": []
    },
    {
      "cell_type": "code",
      "metadata": {
        "id": "jrDVYDtC8paR",
        "colab_type": "code",
        "colab": {}
      },
      "source": [
        "r=PER(data[\"Close\"])\n",
        "type(r)\n",
        "data[\"PER\"]=r"
      ],
      "execution_count": 153,
      "outputs": []
    },
    {
      "cell_type": "code",
      "metadata": {
        "id": "TY36emMo8Pxu",
        "colab_type": "code",
        "colab": {
          "base_uri": "https://localhost:8080/",
          "height": 235
        },
        "outputId": "f5ad7b39-0674-4e70-b151-568899c7fdca"
      },
      "source": [
        "data.head()"
      ],
      "execution_count": 154,
      "outputs": [
        {
          "output_type": "execute_result",
          "data": {
            "text/html": [
              "<div>\n",
              "<style scoped>\n",
              "    .dataframe tbody tr th:only-of-type {\n",
              "        vertical-align: middle;\n",
              "    }\n",
              "\n",
              "    .dataframe tbody tr th {\n",
              "        vertical-align: top;\n",
              "    }\n",
              "\n",
              "    .dataframe thead th {\n",
              "        text-align: right;\n",
              "    }\n",
              "</style>\n",
              "<table border=\"1\" class=\"dataframe\">\n",
              "  <thead>\n",
              "    <tr style=\"text-align: right;\">\n",
              "      <th></th>\n",
              "      <th>Open</th>\n",
              "      <th>High</th>\n",
              "      <th>Low</th>\n",
              "      <th>Close</th>\n",
              "      <th>Adj Close</th>\n",
              "      <th>Volume</th>\n",
              "      <th>PER</th>\n",
              "    </tr>\n",
              "    <tr>\n",
              "      <th>Date</th>\n",
              "      <th></th>\n",
              "      <th></th>\n",
              "      <th></th>\n",
              "      <th></th>\n",
              "      <th></th>\n",
              "      <th></th>\n",
              "      <th></th>\n",
              "    </tr>\n",
              "  </thead>\n",
              "  <tbody>\n",
              "    <tr>\n",
              "      <th>2014-01-02</th>\n",
              "      <td>19.845715</td>\n",
              "      <td>19.893929</td>\n",
              "      <td>19.715000</td>\n",
              "      <td>19.754642</td>\n",
              "      <td>17.655001</td>\n",
              "      <td>234684800</td>\n",
              "      <td>-1.0</td>\n",
              "    </tr>\n",
              "    <tr>\n",
              "      <th>2014-01-03</th>\n",
              "      <td>19.745001</td>\n",
              "      <td>19.775000</td>\n",
              "      <td>19.301071</td>\n",
              "      <td>19.320715</td>\n",
              "      <td>17.267195</td>\n",
              "      <td>392467600</td>\n",
              "      <td>-1.0</td>\n",
              "    </tr>\n",
              "    <tr>\n",
              "      <th>2014-01-06</th>\n",
              "      <td>19.194643</td>\n",
              "      <td>19.528572</td>\n",
              "      <td>19.057142</td>\n",
              "      <td>19.426071</td>\n",
              "      <td>17.361351</td>\n",
              "      <td>412610800</td>\n",
              "      <td>-1.0</td>\n",
              "    </tr>\n",
              "    <tr>\n",
              "      <th>2014-01-07</th>\n",
              "      <td>19.440001</td>\n",
              "      <td>19.498571</td>\n",
              "      <td>19.211428</td>\n",
              "      <td>19.287144</td>\n",
              "      <td>17.237186</td>\n",
              "      <td>317209200</td>\n",
              "      <td>-1.0</td>\n",
              "    </tr>\n",
              "    <tr>\n",
              "      <th>2014-01-08</th>\n",
              "      <td>19.243214</td>\n",
              "      <td>19.484285</td>\n",
              "      <td>19.238928</td>\n",
              "      <td>19.409286</td>\n",
              "      <td>17.346355</td>\n",
              "      <td>258529600</td>\n",
              "      <td>-1.0</td>\n",
              "    </tr>\n",
              "  </tbody>\n",
              "</table>\n",
              "</div>"
            ],
            "text/plain": [
              "                 Open       High        Low  ...  Adj Close     Volume  PER\n",
              "Date                                         ...                           \n",
              "2014-01-02  19.845715  19.893929  19.715000  ...  17.655001  234684800 -1.0\n",
              "2014-01-03  19.745001  19.775000  19.301071  ...  17.267195  392467600 -1.0\n",
              "2014-01-06  19.194643  19.528572  19.057142  ...  17.361351  412610800 -1.0\n",
              "2014-01-07  19.440001  19.498571  19.211428  ...  17.237186  317209200 -1.0\n",
              "2014-01-08  19.243214  19.484285  19.238928  ...  17.346355  258529600 -1.0\n",
              "\n",
              "[5 rows x 7 columns]"
            ]
          },
          "metadata": {
            "tags": []
          },
          "execution_count": 154
        }
      ]
    },
    {
      "cell_type": "code",
      "metadata": {
        "id": "ZhIeUTjE9Coe",
        "colab_type": "code",
        "colab": {}
      },
      "source": [
        "def Gain(p):\n",
        "  r=[]\n",
        "  r+=[0]\n",
        "  for i in range(1,len(p)):\n",
        "    r+=[p[i]-p[i-1]]\n",
        "  return r"
      ],
      "execution_count": 155,
      "outputs": []
    },
    {
      "cell_type": "code",
      "metadata": {
        "id": "FVxMrgtlABdZ",
        "colab_type": "code",
        "colab": {}
      },
      "source": [
        "r=Gain(data[\"Close\"])"
      ],
      "execution_count": 156,
      "outputs": []
    },
    {
      "cell_type": "code",
      "metadata": {
        "id": "0uorBIyn_6dx",
        "colab_type": "code",
        "colab": {}
      },
      "source": [
        "data[\"Gain\"]=r"
      ],
      "execution_count": 157,
      "outputs": []
    },
    {
      "cell_type": "code",
      "metadata": {
        "id": "yNB6W25nAAHm",
        "colab_type": "code",
        "colab": {
          "base_uri": "https://localhost:8080/",
          "height": 235
        },
        "outputId": "7232af80-fc70-471a-8520-ca418c3d15f4"
      },
      "source": [
        "data.head()"
      ],
      "execution_count": 158,
      "outputs": [
        {
          "output_type": "execute_result",
          "data": {
            "text/html": [
              "<div>\n",
              "<style scoped>\n",
              "    .dataframe tbody tr th:only-of-type {\n",
              "        vertical-align: middle;\n",
              "    }\n",
              "\n",
              "    .dataframe tbody tr th {\n",
              "        vertical-align: top;\n",
              "    }\n",
              "\n",
              "    .dataframe thead th {\n",
              "        text-align: right;\n",
              "    }\n",
              "</style>\n",
              "<table border=\"1\" class=\"dataframe\">\n",
              "  <thead>\n",
              "    <tr style=\"text-align: right;\">\n",
              "      <th></th>\n",
              "      <th>Open</th>\n",
              "      <th>High</th>\n",
              "      <th>Low</th>\n",
              "      <th>Close</th>\n",
              "      <th>Adj Close</th>\n",
              "      <th>Volume</th>\n",
              "      <th>PER</th>\n",
              "      <th>Gain</th>\n",
              "    </tr>\n",
              "    <tr>\n",
              "      <th>Date</th>\n",
              "      <th></th>\n",
              "      <th></th>\n",
              "      <th></th>\n",
              "      <th></th>\n",
              "      <th></th>\n",
              "      <th></th>\n",
              "      <th></th>\n",
              "      <th></th>\n",
              "    </tr>\n",
              "  </thead>\n",
              "  <tbody>\n",
              "    <tr>\n",
              "      <th>2014-01-02</th>\n",
              "      <td>19.845715</td>\n",
              "      <td>19.893929</td>\n",
              "      <td>19.715000</td>\n",
              "      <td>19.754642</td>\n",
              "      <td>17.655001</td>\n",
              "      <td>234684800</td>\n",
              "      <td>-1.0</td>\n",
              "      <td>0.000000</td>\n",
              "    </tr>\n",
              "    <tr>\n",
              "      <th>2014-01-03</th>\n",
              "      <td>19.745001</td>\n",
              "      <td>19.775000</td>\n",
              "      <td>19.301071</td>\n",
              "      <td>19.320715</td>\n",
              "      <td>17.267195</td>\n",
              "      <td>392467600</td>\n",
              "      <td>-1.0</td>\n",
              "      <td>-0.433928</td>\n",
              "    </tr>\n",
              "    <tr>\n",
              "      <th>2014-01-06</th>\n",
              "      <td>19.194643</td>\n",
              "      <td>19.528572</td>\n",
              "      <td>19.057142</td>\n",
              "      <td>19.426071</td>\n",
              "      <td>17.361351</td>\n",
              "      <td>412610800</td>\n",
              "      <td>-1.0</td>\n",
              "      <td>0.105356</td>\n",
              "    </tr>\n",
              "    <tr>\n",
              "      <th>2014-01-07</th>\n",
              "      <td>19.440001</td>\n",
              "      <td>19.498571</td>\n",
              "      <td>19.211428</td>\n",
              "      <td>19.287144</td>\n",
              "      <td>17.237186</td>\n",
              "      <td>317209200</td>\n",
              "      <td>-1.0</td>\n",
              "      <td>-0.138927</td>\n",
              "    </tr>\n",
              "    <tr>\n",
              "      <th>2014-01-08</th>\n",
              "      <td>19.243214</td>\n",
              "      <td>19.484285</td>\n",
              "      <td>19.238928</td>\n",
              "      <td>19.409286</td>\n",
              "      <td>17.346355</td>\n",
              "      <td>258529600</td>\n",
              "      <td>-1.0</td>\n",
              "      <td>0.122143</td>\n",
              "    </tr>\n",
              "  </tbody>\n",
              "</table>\n",
              "</div>"
            ],
            "text/plain": [
              "                 Open       High        Low  ...     Volume  PER      Gain\n",
              "Date                                         ...                          \n",
              "2014-01-02  19.845715  19.893929  19.715000  ...  234684800 -1.0  0.000000\n",
              "2014-01-03  19.745001  19.775000  19.301071  ...  392467600 -1.0 -0.433928\n",
              "2014-01-06  19.194643  19.528572  19.057142  ...  412610800 -1.0  0.105356\n",
              "2014-01-07  19.440001  19.498571  19.211428  ...  317209200 -1.0 -0.138927\n",
              "2014-01-08  19.243214  19.484285  19.238928  ...  258529600 -1.0  0.122143\n",
              "\n",
              "[5 rows x 8 columns]"
            ]
          },
          "metadata": {
            "tags": []
          },
          "execution_count": 158
        }
      ]
    },
    {
      "cell_type": "code",
      "metadata": {
        "id": "LmIphEjTAfZa",
        "colab_type": "code",
        "colab": {}
      },
      "source": [
        "def RS(p):\n",
        "  x=len(p)\n",
        "  ag=[]\n",
        "  al=[]\n",
        "  for i in p:\n",
        "    if i>0:\n",
        "      ag+=[i]\n",
        "    else :\n",
        "      # print(i)\n",
        "      al+=[abs(i)]\n",
        "  # print(len(al),len(ag))\n",
        "  if len(al)==0:\n",
        "    return 1000000000000\n",
        "  return sum(ag)/sum(al)\n"
      ],
      "execution_count": 159,
      "outputs": []
    },
    {
      "cell_type": "code",
      "metadata": {
        "id": "SU1PMkDEAISu",
        "colab_type": "code",
        "colab": {}
      },
      "source": [
        "def RSI(p):\n",
        "  r=[]\n",
        "  for i in range(0,252):\n",
        "    r+=[-1]\n",
        "  for i in range(252,len(p)):\n",
        "    rs=RS(p[i-13:i+1])\n",
        "    rsi=100-(100/(1+rs))\n",
        "    r+=[rsi]\n",
        "  return r\n"
      ],
      "execution_count": 166,
      "outputs": []
    },
    {
      "cell_type": "code",
      "metadata": {
        "id": "pXIrR7GlBzLP",
        "colab_type": "code",
        "colab": {}
      },
      "source": [
        "r=RSI(data[\"Gain\"])\n",
        "data[\"RSI\"]=r"
      ],
      "execution_count": 167,
      "outputs": []
    },
    {
      "cell_type": "code",
      "metadata": {
        "id": "I83JhQyoCcQ1",
        "colab_type": "code",
        "colab": {
          "base_uri": "https://localhost:8080/",
          "height": 545
        },
        "outputId": "9426f47e-72ca-40eb-aaef-74186e36d377"
      },
      "source": [
        "data.loc[\"2015-01-02\":,:].head(15)"
      ],
      "execution_count": 168,
      "outputs": [
        {
          "output_type": "execute_result",
          "data": {
            "text/html": [
              "<div>\n",
              "<style scoped>\n",
              "    .dataframe tbody tr th:only-of-type {\n",
              "        vertical-align: middle;\n",
              "    }\n",
              "\n",
              "    .dataframe tbody tr th {\n",
              "        vertical-align: top;\n",
              "    }\n",
              "\n",
              "    .dataframe thead th {\n",
              "        text-align: right;\n",
              "    }\n",
              "</style>\n",
              "<table border=\"1\" class=\"dataframe\">\n",
              "  <thead>\n",
              "    <tr style=\"text-align: right;\">\n",
              "      <th></th>\n",
              "      <th>Open</th>\n",
              "      <th>High</th>\n",
              "      <th>Low</th>\n",
              "      <th>Close</th>\n",
              "      <th>Adj Close</th>\n",
              "      <th>Volume</th>\n",
              "      <th>PER</th>\n",
              "      <th>Gain</th>\n",
              "      <th>Target</th>\n",
              "      <th>RSI</th>\n",
              "    </tr>\n",
              "    <tr>\n",
              "      <th>Date</th>\n",
              "      <th></th>\n",
              "      <th></th>\n",
              "      <th></th>\n",
              "      <th></th>\n",
              "      <th></th>\n",
              "      <th></th>\n",
              "      <th></th>\n",
              "      <th></th>\n",
              "      <th></th>\n",
              "      <th></th>\n",
              "    </tr>\n",
              "  </thead>\n",
              "  <tbody>\n",
              "    <tr>\n",
              "      <th>2015-01-02</th>\n",
              "      <td>27.847500</td>\n",
              "      <td>27.860001</td>\n",
              "      <td>26.837500</td>\n",
              "      <td>27.332500</td>\n",
              "      <td>24.941502</td>\n",
              "      <td>212818400</td>\n",
              "      <td>7.577858</td>\n",
              "      <td>-0.262499</td>\n",
              "      <td>0</td>\n",
              "      <td>44.378987</td>\n",
              "    </tr>\n",
              "    <tr>\n",
              "      <th>2015-01-05</th>\n",
              "      <td>27.072500</td>\n",
              "      <td>27.162500</td>\n",
              "      <td>26.352501</td>\n",
              "      <td>26.562500</td>\n",
              "      <td>24.238857</td>\n",
              "      <td>257142000</td>\n",
              "      <td>7.241785</td>\n",
              "      <td>-0.770000</td>\n",
              "      <td>1</td>\n",
              "      <td>41.929493</td>\n",
              "    </tr>\n",
              "    <tr>\n",
              "      <th>2015-01-06</th>\n",
              "      <td>26.635000</td>\n",
              "      <td>26.857500</td>\n",
              "      <td>26.157499</td>\n",
              "      <td>26.565001</td>\n",
              "      <td>24.241146</td>\n",
              "      <td>263188400</td>\n",
              "      <td>7.138929</td>\n",
              "      <td>0.002501</td>\n",
              "      <td>1</td>\n",
              "      <td>45.092176</td>\n",
              "    </tr>\n",
              "    <tr>\n",
              "      <th>2015-01-07</th>\n",
              "      <td>26.799999</td>\n",
              "      <td>27.049999</td>\n",
              "      <td>26.674999</td>\n",
              "      <td>26.937500</td>\n",
              "      <td>24.581060</td>\n",
              "      <td>160423600</td>\n",
              "      <td>7.650356</td>\n",
              "      <td>0.372499</td>\n",
              "      <td>1</td>\n",
              "      <td>52.490040</td>\n",
              "    </tr>\n",
              "    <tr>\n",
              "      <th>2015-01-08</th>\n",
              "      <td>27.307501</td>\n",
              "      <td>28.037500</td>\n",
              "      <td>27.174999</td>\n",
              "      <td>27.972500</td>\n",
              "      <td>25.525522</td>\n",
              "      <td>237458000</td>\n",
              "      <td>8.563213</td>\n",
              "      <td>1.035000</td>\n",
              "      <td>1</td>\n",
              "      <td>55.751382</td>\n",
              "    </tr>\n",
              "    <tr>\n",
              "      <th>2015-01-09</th>\n",
              "      <td>28.167500</td>\n",
              "      <td>28.312500</td>\n",
              "      <td>27.552500</td>\n",
              "      <td>28.002501</td>\n",
              "      <td>25.552891</td>\n",
              "      <td>214798000</td>\n",
              "      <td>8.841072</td>\n",
              "      <td>0.030001</td>\n",
              "      <td>0</td>\n",
              "      <td>48.264644</td>\n",
              "    </tr>\n",
              "    <tr>\n",
              "      <th>2015-01-12</th>\n",
              "      <td>28.150000</td>\n",
              "      <td>28.157499</td>\n",
              "      <td>27.200001</td>\n",
              "      <td>27.312500</td>\n",
              "      <td>24.923252</td>\n",
              "      <td>198603200</td>\n",
              "      <td>8.278929</td>\n",
              "      <td>-0.690001</td>\n",
              "      <td>1</td>\n",
              "      <td>43.777672</td>\n",
              "    </tr>\n",
              "    <tr>\n",
              "      <th>2015-01-13</th>\n",
              "      <td>27.857500</td>\n",
              "      <td>28.200001</td>\n",
              "      <td>27.227501</td>\n",
              "      <td>27.555000</td>\n",
              "      <td>25.144543</td>\n",
              "      <td>268367600</td>\n",
              "      <td>8.421785</td>\n",
              "      <td>0.242500</td>\n",
              "      <td>0</td>\n",
              "      <td>43.247266</td>\n",
              "    </tr>\n",
              "    <tr>\n",
              "      <th>2015-01-14</th>\n",
              "      <td>27.260000</td>\n",
              "      <td>27.622499</td>\n",
              "      <td>27.125000</td>\n",
              "      <td>27.450001</td>\n",
              "      <td>25.048731</td>\n",
              "      <td>195826400</td>\n",
              "      <td>7.936071</td>\n",
              "      <td>-0.105000</td>\n",
              "      <td>0</td>\n",
              "      <td>43.204369</td>\n",
              "    </tr>\n",
              "    <tr>\n",
              "      <th>2015-01-15</th>\n",
              "      <td>27.500000</td>\n",
              "      <td>27.514999</td>\n",
              "      <td>26.665001</td>\n",
              "      <td>26.705000</td>\n",
              "      <td>24.368891</td>\n",
              "      <td>240056000</td>\n",
              "      <td>6.799286</td>\n",
              "      <td>-0.745001</td>\n",
              "      <td>0</td>\n",
              "      <td>38.522772</td>\n",
              "    </tr>\n",
              "    <tr>\n",
              "      <th>2015-01-16</th>\n",
              "      <td>26.757500</td>\n",
              "      <td>26.895000</td>\n",
              "      <td>26.299999</td>\n",
              "      <td>26.497499</td>\n",
              "      <td>24.179548</td>\n",
              "      <td>314053200</td>\n",
              "      <td>6.702856</td>\n",
              "      <td>-0.207500</td>\n",
              "      <td>1</td>\n",
              "      <td>31.360677</td>\n",
              "    </tr>\n",
              "    <tr>\n",
              "      <th>2015-01-20</th>\n",
              "      <td>26.959999</td>\n",
              "      <td>27.242500</td>\n",
              "      <td>26.625000</td>\n",
              "      <td>27.180000</td>\n",
              "      <td>24.802353</td>\n",
              "      <td>199599600</td>\n",
              "      <td>7.870358</td>\n",
              "      <td>0.682501</td>\n",
              "      <td>1</td>\n",
              "      <td>39.236833</td>\n",
              "    </tr>\n",
              "    <tr>\n",
              "      <th>2015-01-21</th>\n",
              "      <td>27.237499</td>\n",
              "      <td>27.764999</td>\n",
              "      <td>27.067499</td>\n",
              "      <td>27.387501</td>\n",
              "      <td>24.991693</td>\n",
              "      <td>194303600</td>\n",
              "      <td>7.777859</td>\n",
              "      <td>0.207500</td>\n",
              "      <td>1</td>\n",
              "      <td>43.694284</td>\n",
              "    </tr>\n",
              "    <tr>\n",
              "      <th>2015-01-22</th>\n",
              "      <td>27.565001</td>\n",
              "      <td>28.117500</td>\n",
              "      <td>27.430000</td>\n",
              "      <td>28.100000</td>\n",
              "      <td>25.641870</td>\n",
              "      <td>215185600</td>\n",
              "      <td>8.403215</td>\n",
              "      <td>0.712500</td>\n",
              "      <td>1</td>\n",
              "      <td>54.163239</td>\n",
              "    </tr>\n",
              "    <tr>\n",
              "      <th>2015-01-23</th>\n",
              "      <td>28.075001</td>\n",
              "      <td>28.437500</td>\n",
              "      <td>27.882500</td>\n",
              "      <td>28.245001</td>\n",
              "      <td>25.774179</td>\n",
              "      <td>185859200</td>\n",
              "      <td>8.381430</td>\n",
              "      <td>0.145000</td>\n",
              "      <td>1</td>\n",
              "      <td>57.671288</td>\n",
              "    </tr>\n",
              "  </tbody>\n",
              "</table>\n",
              "</div>"
            ],
            "text/plain": [
              "                 Open       High        Low  ...      Gain  Target        RSI\n",
              "Date                                         ...                             \n",
              "2015-01-02  27.847500  27.860001  26.837500  ... -0.262499       0  44.378987\n",
              "2015-01-05  27.072500  27.162500  26.352501  ... -0.770000       1  41.929493\n",
              "2015-01-06  26.635000  26.857500  26.157499  ...  0.002501       1  45.092176\n",
              "2015-01-07  26.799999  27.049999  26.674999  ...  0.372499       1  52.490040\n",
              "2015-01-08  27.307501  28.037500  27.174999  ...  1.035000       1  55.751382\n",
              "2015-01-09  28.167500  28.312500  27.552500  ...  0.030001       0  48.264644\n",
              "2015-01-12  28.150000  28.157499  27.200001  ... -0.690001       1  43.777672\n",
              "2015-01-13  27.857500  28.200001  27.227501  ...  0.242500       0  43.247266\n",
              "2015-01-14  27.260000  27.622499  27.125000  ... -0.105000       0  43.204369\n",
              "2015-01-15  27.500000  27.514999  26.665001  ... -0.745001       0  38.522772\n",
              "2015-01-16  26.757500  26.895000  26.299999  ... -0.207500       1  31.360677\n",
              "2015-01-20  26.959999  27.242500  26.625000  ...  0.682501       1  39.236833\n",
              "2015-01-21  27.237499  27.764999  27.067499  ...  0.207500       1  43.694284\n",
              "2015-01-22  27.565001  28.117500  27.430000  ...  0.712500       1  54.163239\n",
              "2015-01-23  28.075001  28.437500  27.882500  ...  0.145000       1  57.671288\n",
              "\n",
              "[15 rows x 10 columns]"
            ]
          },
          "metadata": {
            "tags": []
          },
          "execution_count": 168
        }
      ]
    },
    {
      "cell_type": "code",
      "metadata": {
        "id": "I4QGT8uTCftF",
        "colab_type": "code",
        "colab": {}
      },
      "source": [
        "def target(p):\n",
        "  r=[]\n",
        "  for i in range(0,252):\n",
        "    r+=[-1]\n",
        "  for i in range(252,len(p)-1):\n",
        "    if p[i+1]>p[i]:\n",
        "      r+=[1]\n",
        "    else:\n",
        "      r+=[0]\n",
        "  r+=[-1]\n",
        "  return r\n"
      ],
      "execution_count": 169,
      "outputs": []
    },
    {
      "cell_type": "code",
      "metadata": {
        "id": "Un2yEEsYDuC-",
        "colab_type": "code",
        "colab": {}
      },
      "source": [
        "r=target(data[\"Close\"])\n",
        "data[\"Target\"]=r"
      ],
      "execution_count": 170,
      "outputs": []
    },
    {
      "cell_type": "code",
      "metadata": {
        "id": "gE9yLyAXD0R8",
        "colab_type": "code",
        "colab": {
          "base_uri": "https://localhost:8080/",
          "height": 235
        },
        "outputId": "0bfb977c-cfaa-4c69-e4dd-525d1e9ebc86"
      },
      "source": [
        "data.loc[\"2015-01-02\":,:].head()"
      ],
      "execution_count": 171,
      "outputs": [
        {
          "output_type": "execute_result",
          "data": {
            "text/html": [
              "<div>\n",
              "<style scoped>\n",
              "    .dataframe tbody tr th:only-of-type {\n",
              "        vertical-align: middle;\n",
              "    }\n",
              "\n",
              "    .dataframe tbody tr th {\n",
              "        vertical-align: top;\n",
              "    }\n",
              "\n",
              "    .dataframe thead th {\n",
              "        text-align: right;\n",
              "    }\n",
              "</style>\n",
              "<table border=\"1\" class=\"dataframe\">\n",
              "  <thead>\n",
              "    <tr style=\"text-align: right;\">\n",
              "      <th></th>\n",
              "      <th>Open</th>\n",
              "      <th>High</th>\n",
              "      <th>Low</th>\n",
              "      <th>Close</th>\n",
              "      <th>Adj Close</th>\n",
              "      <th>Volume</th>\n",
              "      <th>PER</th>\n",
              "      <th>Gain</th>\n",
              "      <th>Target</th>\n",
              "      <th>RSI</th>\n",
              "    </tr>\n",
              "    <tr>\n",
              "      <th>Date</th>\n",
              "      <th></th>\n",
              "      <th></th>\n",
              "      <th></th>\n",
              "      <th></th>\n",
              "      <th></th>\n",
              "      <th></th>\n",
              "      <th></th>\n",
              "      <th></th>\n",
              "      <th></th>\n",
              "      <th></th>\n",
              "    </tr>\n",
              "  </thead>\n",
              "  <tbody>\n",
              "    <tr>\n",
              "      <th>2015-01-02</th>\n",
              "      <td>27.847500</td>\n",
              "      <td>27.860001</td>\n",
              "      <td>26.837500</td>\n",
              "      <td>27.332500</td>\n",
              "      <td>24.941502</td>\n",
              "      <td>212818400</td>\n",
              "      <td>7.577858</td>\n",
              "      <td>-0.262499</td>\n",
              "      <td>0</td>\n",
              "      <td>44.378987</td>\n",
              "    </tr>\n",
              "    <tr>\n",
              "      <th>2015-01-05</th>\n",
              "      <td>27.072500</td>\n",
              "      <td>27.162500</td>\n",
              "      <td>26.352501</td>\n",
              "      <td>26.562500</td>\n",
              "      <td>24.238857</td>\n",
              "      <td>257142000</td>\n",
              "      <td>7.241785</td>\n",
              "      <td>-0.770000</td>\n",
              "      <td>1</td>\n",
              "      <td>41.929493</td>\n",
              "    </tr>\n",
              "    <tr>\n",
              "      <th>2015-01-06</th>\n",
              "      <td>26.635000</td>\n",
              "      <td>26.857500</td>\n",
              "      <td>26.157499</td>\n",
              "      <td>26.565001</td>\n",
              "      <td>24.241146</td>\n",
              "      <td>263188400</td>\n",
              "      <td>7.138929</td>\n",
              "      <td>0.002501</td>\n",
              "      <td>1</td>\n",
              "      <td>45.092176</td>\n",
              "    </tr>\n",
              "    <tr>\n",
              "      <th>2015-01-07</th>\n",
              "      <td>26.799999</td>\n",
              "      <td>27.049999</td>\n",
              "      <td>26.674999</td>\n",
              "      <td>26.937500</td>\n",
              "      <td>24.581060</td>\n",
              "      <td>160423600</td>\n",
              "      <td>7.650356</td>\n",
              "      <td>0.372499</td>\n",
              "      <td>1</td>\n",
              "      <td>52.490040</td>\n",
              "    </tr>\n",
              "    <tr>\n",
              "      <th>2015-01-08</th>\n",
              "      <td>27.307501</td>\n",
              "      <td>28.037500</td>\n",
              "      <td>27.174999</td>\n",
              "      <td>27.972500</td>\n",
              "      <td>25.525522</td>\n",
              "      <td>237458000</td>\n",
              "      <td>8.563213</td>\n",
              "      <td>1.035000</td>\n",
              "      <td>1</td>\n",
              "      <td>55.751382</td>\n",
              "    </tr>\n",
              "  </tbody>\n",
              "</table>\n",
              "</div>"
            ],
            "text/plain": [
              "                 Open       High        Low  ...      Gain  Target        RSI\n",
              "Date                                         ...                             \n",
              "2015-01-02  27.847500  27.860001  26.837500  ... -0.262499       0  44.378987\n",
              "2015-01-05  27.072500  27.162500  26.352501  ... -0.770000       1  41.929493\n",
              "2015-01-06  26.635000  26.857500  26.157499  ...  0.002501       1  45.092176\n",
              "2015-01-07  26.799999  27.049999  26.674999  ...  0.372499       1  52.490040\n",
              "2015-01-08  27.307501  28.037500  27.174999  ...  1.035000       1  55.751382\n",
              "\n",
              "[5 rows x 10 columns]"
            ]
          },
          "metadata": {
            "tags": []
          },
          "execution_count": 171
        }
      ]
    },
    {
      "cell_type": "code",
      "metadata": {
        "id": "Er9EEveEnxEG",
        "colab_type": "code",
        "colab": {
          "base_uri": "https://localhost:8080/",
          "height": 204
        },
        "outputId": "376b2a9c-50e0-4423-a68e-28cac180b2c9"
      },
      "source": [
        "pv=pd.read_csv(\"apple_pageviews.csv\")\n",
        "pv.head()"
      ],
      "execution_count": 537,
      "outputs": [
        {
          "output_type": "execute_result",
          "data": {
            "text/html": [
              "<div>\n",
              "<style scoped>\n",
              "    .dataframe tbody tr th:only-of-type {\n",
              "        vertical-align: middle;\n",
              "    }\n",
              "\n",
              "    .dataframe tbody tr th {\n",
              "        vertical-align: top;\n",
              "    }\n",
              "\n",
              "    .dataframe thead th {\n",
              "        text-align: right;\n",
              "    }\n",
              "</style>\n",
              "<table border=\"1\" class=\"dataframe\">\n",
              "  <thead>\n",
              "    <tr style=\"text-align: right;\">\n",
              "      <th></th>\n",
              "      <th>Date</th>\n",
              "      <th>Apple Inc.</th>\n",
              "    </tr>\n",
              "  </thead>\n",
              "  <tbody>\n",
              "    <tr>\n",
              "      <th>0</th>\n",
              "      <td>2015-07-01</td>\n",
              "      <td>11551</td>\n",
              "    </tr>\n",
              "    <tr>\n",
              "      <th>1</th>\n",
              "      <td>2015-07-02</td>\n",
              "      <td>12192</td>\n",
              "    </tr>\n",
              "    <tr>\n",
              "      <th>2</th>\n",
              "      <td>2015-07-03</td>\n",
              "      <td>10946</td>\n",
              "    </tr>\n",
              "    <tr>\n",
              "      <th>3</th>\n",
              "      <td>2015-07-04</td>\n",
              "      <td>9718</td>\n",
              "    </tr>\n",
              "    <tr>\n",
              "      <th>4</th>\n",
              "      <td>2015-07-05</td>\n",
              "      <td>10826</td>\n",
              "    </tr>\n",
              "  </tbody>\n",
              "</table>\n",
              "</div>"
            ],
            "text/plain": [
              "         Date  Apple Inc.\n",
              "0  2015-07-01       11551\n",
              "1  2015-07-02       12192\n",
              "2  2015-07-03       10946\n",
              "3  2015-07-04        9718\n",
              "4  2015-07-05       10826"
            ]
          },
          "metadata": {
            "tags": []
          },
          "execution_count": 537
        }
      ]
    },
    {
      "cell_type": "code",
      "metadata": {
        "id": "QUapfmJxoCSu",
        "colab_type": "code",
        "colab": {}
      },
      "source": [
        "dates=data.index.strftime('%Y-%m-%d').to_list()"
      ],
      "execution_count": 513,
      "outputs": []
    },
    {
      "cell_type": "code",
      "metadata": {
        "id": "Y99V9XQjn57V",
        "colab_type": "code",
        "colab": {}
      },
      "source": [
        "def wiki_views(p):\n",
        "  r=[]\n",
        "  for i in p:\n",
        "    xx=pv[pv[\"Date\"]==i][\"Apple Inc.\"].values\n",
        "    if len(xx)!=0:\n",
        "       r+=[pv[pv[\"Date\"]==i][\"Apple Inc.\"].values[0]]\n",
        "    else:\n",
        "      r+=[-1]\n",
        "  return r"
      ],
      "execution_count": 538,
      "outputs": []
    },
    {
      "cell_type": "code",
      "metadata": {
        "id": "pJhtMul8pdpa",
        "colab_type": "code",
        "colab": {}
      },
      "source": [
        "r=wiki_views(dates)"
      ],
      "execution_count": 539,
      "outputs": []
    },
    {
      "cell_type": "code",
      "metadata": {
        "id": "dyaTaOPmpheG",
        "colab_type": "code",
        "colab": {}
      },
      "source": [
        "data[\"Wiki_hits\"]=r"
      ],
      "execution_count": 540,
      "outputs": []
    },
    {
      "cell_type": "code",
      "metadata": {
        "id": "RPx9tgQTvECX",
        "colab_type": "code",
        "colab": {}
      },
      "source": [
        "def wiki_move(p):\n",
        "  r=[0]\n",
        "  for i in range(1,len(p)):\n",
        "    r+=[p[i]-p[i-1]]\n",
        "  # r+=[-1]\n",
        "\n",
        "  return r"
      ],
      "execution_count": 780,
      "outputs": []
    },
    {
      "cell_type": "code",
      "metadata": {
        "id": "pM-3GohfvT-D",
        "colab_type": "code",
        "colab": {}
      },
      "source": [
        "r=wiki_move(data[\"Wiki_hits\"].values)\n",
        "data[\"Wiki_move\"]=r"
      ],
      "execution_count": 781,
      "outputs": []
    },
    {
      "cell_type": "code",
      "metadata": {
        "id": "OdIE-L-Ipmt3",
        "colab_type": "code",
        "colab": {
          "base_uri": "https://localhost:8080/",
          "height": 235
        },
        "outputId": "68c63265-a428-441b-f0de-100b2f532407"
      },
      "source": [
        "data.head()"
      ],
      "execution_count": 782,
      "outputs": [
        {
          "output_type": "execute_result",
          "data": {
            "text/html": [
              "<div>\n",
              "<style scoped>\n",
              "    .dataframe tbody tr th:only-of-type {\n",
              "        vertical-align: middle;\n",
              "    }\n",
              "\n",
              "    .dataframe tbody tr th {\n",
              "        vertical-align: top;\n",
              "    }\n",
              "\n",
              "    .dataframe thead th {\n",
              "        text-align: right;\n",
              "    }\n",
              "</style>\n",
              "<table border=\"1\" class=\"dataframe\">\n",
              "  <thead>\n",
              "    <tr style=\"text-align: right;\">\n",
              "      <th></th>\n",
              "      <th>Open</th>\n",
              "      <th>High</th>\n",
              "      <th>Low</th>\n",
              "      <th>Close</th>\n",
              "      <th>Adj Close</th>\n",
              "      <th>Volume</th>\n",
              "      <th>PER</th>\n",
              "      <th>Gain</th>\n",
              "      <th>Target</th>\n",
              "      <th>RSI</th>\n",
              "      <th>Wiki_hits</th>\n",
              "      <th>Wiki_move</th>\n",
              "    </tr>\n",
              "    <tr>\n",
              "      <th>Date</th>\n",
              "      <th></th>\n",
              "      <th></th>\n",
              "      <th></th>\n",
              "      <th></th>\n",
              "      <th></th>\n",
              "      <th></th>\n",
              "      <th></th>\n",
              "      <th></th>\n",
              "      <th></th>\n",
              "      <th></th>\n",
              "      <th></th>\n",
              "      <th></th>\n",
              "    </tr>\n",
              "  </thead>\n",
              "  <tbody>\n",
              "    <tr>\n",
              "      <th>2014-01-02</th>\n",
              "      <td>19.845715</td>\n",
              "      <td>19.893929</td>\n",
              "      <td>19.715000</td>\n",
              "      <td>19.754642</td>\n",
              "      <td>17.655001</td>\n",
              "      <td>234684800</td>\n",
              "      <td>-1.0</td>\n",
              "      <td>0.000000</td>\n",
              "      <td>-1</td>\n",
              "      <td>-1.0</td>\n",
              "      <td>-1</td>\n",
              "      <td>0</td>\n",
              "    </tr>\n",
              "    <tr>\n",
              "      <th>2014-01-03</th>\n",
              "      <td>19.745001</td>\n",
              "      <td>19.775000</td>\n",
              "      <td>19.301071</td>\n",
              "      <td>19.320715</td>\n",
              "      <td>17.267195</td>\n",
              "      <td>392467600</td>\n",
              "      <td>-1.0</td>\n",
              "      <td>-0.433928</td>\n",
              "      <td>-1</td>\n",
              "      <td>-1.0</td>\n",
              "      <td>-1</td>\n",
              "      <td>0</td>\n",
              "    </tr>\n",
              "    <tr>\n",
              "      <th>2014-01-06</th>\n",
              "      <td>19.194643</td>\n",
              "      <td>19.528572</td>\n",
              "      <td>19.057142</td>\n",
              "      <td>19.426071</td>\n",
              "      <td>17.361351</td>\n",
              "      <td>412610800</td>\n",
              "      <td>-1.0</td>\n",
              "      <td>0.105356</td>\n",
              "      <td>-1</td>\n",
              "      <td>-1.0</td>\n",
              "      <td>-1</td>\n",
              "      <td>0</td>\n",
              "    </tr>\n",
              "    <tr>\n",
              "      <th>2014-01-07</th>\n",
              "      <td>19.440001</td>\n",
              "      <td>19.498571</td>\n",
              "      <td>19.211428</td>\n",
              "      <td>19.287144</td>\n",
              "      <td>17.237186</td>\n",
              "      <td>317209200</td>\n",
              "      <td>-1.0</td>\n",
              "      <td>-0.138927</td>\n",
              "      <td>-1</td>\n",
              "      <td>-1.0</td>\n",
              "      <td>-1</td>\n",
              "      <td>0</td>\n",
              "    </tr>\n",
              "    <tr>\n",
              "      <th>2014-01-08</th>\n",
              "      <td>19.243214</td>\n",
              "      <td>19.484285</td>\n",
              "      <td>19.238928</td>\n",
              "      <td>19.409286</td>\n",
              "      <td>17.346355</td>\n",
              "      <td>258529600</td>\n",
              "      <td>-1.0</td>\n",
              "      <td>0.122143</td>\n",
              "      <td>-1</td>\n",
              "      <td>-1.0</td>\n",
              "      <td>-1</td>\n",
              "      <td>0</td>\n",
              "    </tr>\n",
              "  </tbody>\n",
              "</table>\n",
              "</div>"
            ],
            "text/plain": [
              "                 Open       High        Low  ...  RSI  Wiki_hits  Wiki_move\n",
              "Date                                         ...                           \n",
              "2014-01-02  19.845715  19.893929  19.715000  ... -1.0         -1          0\n",
              "2014-01-03  19.745001  19.775000  19.301071  ... -1.0         -1          0\n",
              "2014-01-06  19.194643  19.528572  19.057142  ... -1.0         -1          0\n",
              "2014-01-07  19.440001  19.498571  19.211428  ... -1.0         -1          0\n",
              "2014-01-08  19.243214  19.484285  19.238928  ... -1.0         -1          0\n",
              "\n",
              "[5 rows x 12 columns]"
            ]
          },
          "metadata": {
            "tags": []
          },
          "execution_count": 782
        }
      ]
    },
    {
      "cell_type": "code",
      "metadata": {
        "id": "u6p_pm0UD7CU",
        "colab_type": "code",
        "colab": {}
      },
      "source": [
        "X=data.loc[\"2015-07-01\":\"2019-12-27\",:][[\"Open\",\"High\",\"Low\",\"Close\",\"PER\",\"Wiki_move\"]]\n",
        "Y=data.loc[\"2015-07-01\":\"2019-12-27\",:][\"Target\"]"
      ],
      "execution_count": 818,
      "outputs": []
    },
    {
      "cell_type": "code",
      "metadata": {
        "id": "OTI7bkgIq8Go",
        "colab_type": "code",
        "colab": {
          "base_uri": "https://localhost:8080/",
          "height": 235
        },
        "outputId": "5d5d16b1-d439-4aa6-d4e9-4e6c026fa9e1"
      },
      "source": [
        "X.head()"
      ],
      "execution_count": 819,
      "outputs": [
        {
          "output_type": "execute_result",
          "data": {
            "text/html": [
              "<div>\n",
              "<style scoped>\n",
              "    .dataframe tbody tr th:only-of-type {\n",
              "        vertical-align: middle;\n",
              "    }\n",
              "\n",
              "    .dataframe tbody tr th {\n",
              "        vertical-align: top;\n",
              "    }\n",
              "\n",
              "    .dataframe thead th {\n",
              "        text-align: right;\n",
              "    }\n",
              "</style>\n",
              "<table border=\"1\" class=\"dataframe\">\n",
              "  <thead>\n",
              "    <tr style=\"text-align: right;\">\n",
              "      <th></th>\n",
              "      <th>Open</th>\n",
              "      <th>High</th>\n",
              "      <th>Low</th>\n",
              "      <th>Close</th>\n",
              "      <th>PER</th>\n",
              "      <th>Wiki_move</th>\n",
              "    </tr>\n",
              "    <tr>\n",
              "      <th>Date</th>\n",
              "      <th></th>\n",
              "      <th></th>\n",
              "      <th></th>\n",
              "      <th></th>\n",
              "      <th></th>\n",
              "      <th></th>\n",
              "    </tr>\n",
              "  </thead>\n",
              "  <tbody>\n",
              "    <tr>\n",
              "      <th>2015-07-01</th>\n",
              "      <td>31.725000</td>\n",
              "      <td>31.735001</td>\n",
              "      <td>31.497499</td>\n",
              "      <td>31.650000</td>\n",
              "      <td>8.2700</td>\n",
              "      <td>11552</td>\n",
              "    </tr>\n",
              "    <tr>\n",
              "      <th>2015-07-02</th>\n",
              "      <td>31.607500</td>\n",
              "      <td>31.672501</td>\n",
              "      <td>31.442499</td>\n",
              "      <td>31.610001</td>\n",
              "      <td>8.2400</td>\n",
              "      <td>641</td>\n",
              "    </tr>\n",
              "    <tr>\n",
              "      <th>2015-07-06</th>\n",
              "      <td>31.235001</td>\n",
              "      <td>31.557501</td>\n",
              "      <td>31.212500</td>\n",
              "      <td>31.500000</td>\n",
              "      <td>7.9925</td>\n",
              "      <td>-481</td>\n",
              "    </tr>\n",
              "    <tr>\n",
              "      <th>2015-07-07</th>\n",
              "      <td>31.472500</td>\n",
              "      <td>31.537500</td>\n",
              "      <td>30.942499</td>\n",
              "      <td>31.422501</td>\n",
              "      <td>7.4300</td>\n",
              "      <td>1794</td>\n",
              "    </tr>\n",
              "    <tr>\n",
              "      <th>2015-07-08</th>\n",
              "      <td>31.120001</td>\n",
              "      <td>31.160000</td>\n",
              "      <td>30.635000</td>\n",
              "      <td>30.642500</td>\n",
              "      <td>6.8050</td>\n",
              "      <td>1049</td>\n",
              "    </tr>\n",
              "  </tbody>\n",
              "</table>\n",
              "</div>"
            ],
            "text/plain": [
              "                 Open       High        Low      Close     PER  Wiki_move\n",
              "Date                                                                     \n",
              "2015-07-01  31.725000  31.735001  31.497499  31.650000  8.2700      11552\n",
              "2015-07-02  31.607500  31.672501  31.442499  31.610001  8.2400        641\n",
              "2015-07-06  31.235001  31.557501  31.212500  31.500000  7.9925       -481\n",
              "2015-07-07  31.472500  31.537500  30.942499  31.422501  7.4300       1794\n",
              "2015-07-08  31.120001  31.160000  30.635000  30.642500  6.8050       1049"
            ]
          },
          "metadata": {
            "tags": []
          },
          "execution_count": 819
        }
      ]
    },
    {
      "cell_type": "code",
      "metadata": {
        "id": "s-q4VsNtEMR3",
        "colab_type": "code",
        "colab": {}
      },
      "source": [
        "from sklearn.model_selection import train_test_split\n",
        "from sklearn.ensemble import RandomForestClassifier \n",
        "from sklearn.svm import SVC"
      ],
      "execution_count": 820,
      "outputs": []
    },
    {
      "cell_type": "code",
      "metadata": {
        "id": "Ue3gMpuVEvZ2",
        "colab_type": "code",
        "colab": {}
      },
      "source": [
        "X_train,X_test,Y_train,Y_test=train_test_split(X,Y,test_size=0.1,stratify=Y,random_state=6)"
      ],
      "execution_count": 821,
      "outputs": []
    },
    {
      "cell_type": "code",
      "metadata": {
        "id": "Yp3Ecb3WJWhw",
        "colab_type": "code",
        "colab": {
          "base_uri": "https://localhost:8080/",
          "height": 34
        },
        "outputId": "f724b626-545b-4f20-b5d0-9f74cde9eaf4"
      },
      "source": [
        "len(X_train)"
      ],
      "execution_count": 822,
      "outputs": [
        {
          "output_type": "execute_result",
          "data": {
            "text/plain": [
              "1018"
            ]
          },
          "metadata": {
            "tags": []
          },
          "execution_count": 822
        }
      ]
    },
    {
      "cell_type": "code",
      "metadata": {
        "id": "6XwiLDuWGgLp",
        "colab_type": "code",
        "colab": {
          "base_uri": "https://localhost:8080/",
          "height": 34
        },
        "outputId": "df883963-d3e6-43aa-f885-bae8e6f2a804"
      },
      "source": [
        "(len(Y_train)-sum(Y_train))/len(Y_train)"
      ],
      "execution_count": 823,
      "outputs": [
        {
          "output_type": "execute_result",
          "data": {
            "text/plain": [
              "0.46954813359528486"
            ]
          },
          "metadata": {
            "tags": []
          },
          "execution_count": 823
        }
      ]
    },
    {
      "cell_type": "code",
      "metadata": {
        "id": "gIgF7JAZG4C3",
        "colab_type": "code",
        "colab": {
          "base_uri": "https://localhost:8080/",
          "height": 34
        },
        "outputId": "d4b701fc-6e04-4f07-e8fc-2ac180f1dacd"
      },
      "source": [
        "(len(Y_test)-sum(Y_test))/len(Y_test)"
      ],
      "execution_count": 824,
      "outputs": [
        {
          "output_type": "execute_result",
          "data": {
            "text/plain": [
              "0.47368421052631576"
            ]
          },
          "metadata": {
            "tags": []
          },
          "execution_count": 824
        }
      ]
    },
    {
      "cell_type": "code",
      "metadata": {
        "id": "8Wrq-fltFdD1",
        "colab_type": "code",
        "colab": {
          "base_uri": "https://localhost:8080/",
          "height": 153
        },
        "outputId": "e3b88415-d611-43db-ae4c-f75df5c7526b"
      },
      "source": [
        "rf=RandomForestClassifier(n_estimators=150,max_depth=7,oob_score=True,max_features=\"log2\",criterion=\"gini\",max_samples=0.7,min_impurity_decrease=0.0009,random_state=7)\n",
        "rf.fit(X_train,Y_train)"
      ],
      "execution_count": 1014,
      "outputs": [
        {
          "output_type": "execute_result",
          "data": {
            "text/plain": [
              "RandomForestClassifier(bootstrap=True, ccp_alpha=0.0, class_weight=None,\n",
              "                       criterion='gini', max_depth=7, max_features='log2',\n",
              "                       max_leaf_nodes=None, max_samples=0.7,\n",
              "                       min_impurity_decrease=0.0009, min_impurity_split=None,\n",
              "                       min_samples_leaf=1, min_samples_split=2,\n",
              "                       min_weight_fraction_leaf=0.0, n_estimators=150,\n",
              "                       n_jobs=None, oob_score=True, random_state=7, verbose=0,\n",
              "                       warm_start=False)"
            ]
          },
          "metadata": {
            "tags": []
          },
          "execution_count": 1014
        }
      ]
    },
    {
      "cell_type": "code",
      "metadata": {
        "id": "p4I3dtJKF8um",
        "colab_type": "code",
        "colab": {
          "base_uri": "https://localhost:8080/",
          "height": 34
        },
        "outputId": "74386f1f-ca82-4416-dc91-617aaadd65d7"
      },
      "source": [
        "rf.oob_score_"
      ],
      "execution_count": 1015,
      "outputs": [
        {
          "output_type": "execute_result",
          "data": {
            "text/plain": [
              "0.4715127701375246"
            ]
          },
          "metadata": {
            "tags": []
          },
          "execution_count": 1015
        }
      ]
    },
    {
      "cell_type": "code",
      "metadata": {
        "id": "_c_zj8JmF_OE",
        "colab_type": "code",
        "colab": {
          "base_uri": "https://localhost:8080/",
          "height": 34
        },
        "outputId": "a60eee00-c2b4-4835-f9cf-c864401645dd"
      },
      "source": [
        "rf.score(X_train,Y_train)\n"
      ],
      "execution_count": 1016,
      "outputs": [
        {
          "output_type": "execute_result",
          "data": {
            "text/plain": [
              "0.81237721021611"
            ]
          },
          "metadata": {
            "tags": []
          },
          "execution_count": 1016
        }
      ]
    },
    {
      "cell_type": "code",
      "metadata": {
        "id": "MzaOVbNFGHkM",
        "colab_type": "code",
        "colab": {
          "base_uri": "https://localhost:8080/",
          "height": 34
        },
        "outputId": "21b71b04-6e70-4d1a-9556-3a293626221a"
      },
      "source": [
        "rf.score(X_test,Y_test)"
      ],
      "execution_count": 1017,
      "outputs": [
        {
          "output_type": "execute_result",
          "data": {
            "text/plain": [
              "0.6052631578947368"
            ]
          },
          "metadata": {
            "tags": []
          },
          "execution_count": 1017
        }
      ]
    },
    {
      "cell_type": "code",
      "metadata": {
        "id": "F4D5VYFUg8ag",
        "colab_type": "code",
        "colab": {}
      },
      "source": [
        "import graphviz\n",
        "from sklearn import tree"
      ],
      "execution_count": 853,
      "outputs": []
    },
    {
      "cell_type": "code",
      "metadata": {
        "id": "PJdYmjUdg22z",
        "colab_type": "code",
        "colab": {
          "base_uri": "https://localhost:8080/",
          "height": 1000
        },
        "outputId": "18db7c5c-6690-47ab-e0c6-d5009d36a901"
      },
      "source": [
        "dot_data=tree.export_graphviz(rf[6], out_file=None,feature_names=X_train.columns,filled=True, rounded=True,special_characters=True)\n",
        "graph = graphviz.Source(dot_data) \n",
        "graph"
      ],
      "execution_count": 854,
      "outputs": [
        {
          "output_type": "execute_result",
          "data": {
            "text/plain": [
              "<graphviz.files.Source at 0x7f2394ded278>"
            ],
            "image/svg+xml": "<?xml version=\"1.0\" encoding=\"UTF-8\" standalone=\"no\"?>\n<!DOCTYPE svg PUBLIC \"-//W3C//DTD SVG 1.1//EN\"\n \"http://www.w3.org/Graphics/SVG/1.1/DTD/svg11.dtd\">\n<!-- Generated by graphviz version 2.40.1 (20161225.0304)\n -->\n<!-- Title: Tree Pages: 1 -->\n<svg width=\"800pt\" height=\"789pt\"\n viewBox=\"0.00 0.00 799.50 789.00\" xmlns=\"http://www.w3.org/2000/svg\" xmlns:xlink=\"http://www.w3.org/1999/xlink\">\n<g id=\"graph0\" class=\"graph\" transform=\"scale(1 1) rotate(0) translate(4 785)\">\n<title>Tree</title>\n<polygon fill=\"#ffffff\" stroke=\"transparent\" points=\"-4,4 -4,-785 795.5,-785 795.5,4 -4,4\"/>\n<!-- 0 -->\n<g id=\"node1\" class=\"node\">\n<title>0</title>\n<path fill=\"#f1f8fd\" stroke=\"#000000\" d=\"M402,-781C402,-781 294,-781 294,-781 288,-781 282,-775 282,-769 282,-769 282,-725 282,-725 282,-719 288,-713 294,-713 294,-713 402,-713 402,-713 408,-713 414,-719 414,-725 414,-725 414,-769 414,-769 414,-775 408,-781 402,-781\"/>\n<text text-anchor=\"start\" x=\"302.5\" y=\"-765.8\" font-family=\"Helvetica,sans-Serif\" font-size=\"14.00\" fill=\"#000000\">PER ≤ 24.359</text>\n<text text-anchor=\"start\" x=\"310\" y=\"-750.8\" font-family=\"Helvetica,sans-Serif\" font-size=\"14.00\" fill=\"#000000\">gini = 0.499</text>\n<text text-anchor=\"start\" x=\"300\" y=\"-735.8\" font-family=\"Helvetica,sans-Serif\" font-size=\"14.00\" fill=\"#000000\">samples = 508</text>\n<text text-anchor=\"start\" x=\"290\" y=\"-720.8\" font-family=\"Helvetica,sans-Serif\" font-size=\"14.00\" fill=\"#000000\">value = [343, 370]</text>\n</g>\n<!-- 1 -->\n<g id=\"node2\" class=\"node\">\n<title>1</title>\n<path fill=\"#f9fcfe\" stroke=\"#000000\" d=\"M333,-677C333,-677 225,-677 225,-677 219,-677 213,-671 213,-665 213,-665 213,-621 213,-621 213,-615 219,-609 225,-609 225,-609 333,-609 333,-609 339,-609 345,-615 345,-621 345,-621 345,-665 345,-665 345,-671 339,-677 333,-677\"/>\n<text text-anchor=\"start\" x=\"235.5\" y=\"-661.8\" font-family=\"Helvetica,sans-Serif\" font-size=\"14.00\" fill=\"#000000\">PER ≤ &#45;8.921</text>\n<text text-anchor=\"start\" x=\"249.5\" y=\"-646.8\" font-family=\"Helvetica,sans-Serif\" font-size=\"14.00\" fill=\"#000000\">gini = 0.5</text>\n<text text-anchor=\"start\" x=\"231\" y=\"-631.8\" font-family=\"Helvetica,sans-Serif\" font-size=\"14.00\" fill=\"#000000\">samples = 500</text>\n<text text-anchor=\"start\" x=\"221\" y=\"-616.8\" font-family=\"Helvetica,sans-Serif\" font-size=\"14.00\" fill=\"#000000\">value = [343, 353]</text>\n</g>\n<!-- 0&#45;&gt;1 -->\n<g id=\"edge1\" class=\"edge\">\n<title>0&#45;&gt;1</title>\n<path fill=\"none\" stroke=\"#000000\" d=\"M325.4068,-712.9465C319.6286,-704.2373 313.3425,-694.7626 307.3166,-685.6801\"/>\n<polygon fill=\"#000000\" stroke=\"#000000\" points=\"310.089,-683.5278 301.6439,-677.13 304.256,-687.3978 310.089,-683.5278\"/>\n<text text-anchor=\"middle\" x=\"296.6866\" y=\"-697.9336\" font-family=\"Helvetica,sans-Serif\" font-size=\"14.00\" fill=\"#000000\">True</text>\n</g>\n<!-- 26 -->\n<g id=\"node27\" class=\"node\">\n<title>26</title>\n<path fill=\"#399de5\" stroke=\"#000000\" d=\"M458.5,-669.5C458.5,-669.5 375.5,-669.5 375.5,-669.5 369.5,-669.5 363.5,-663.5 363.5,-657.5 363.5,-657.5 363.5,-628.5 363.5,-628.5 363.5,-622.5 369.5,-616.5 375.5,-616.5 375.5,-616.5 458.5,-616.5 458.5,-616.5 464.5,-616.5 470.5,-622.5 470.5,-628.5 470.5,-628.5 470.5,-657.5 470.5,-657.5 470.5,-663.5 464.5,-669.5 458.5,-669.5\"/>\n<text text-anchor=\"start\" x=\"387.5\" y=\"-654.3\" font-family=\"Helvetica,sans-Serif\" font-size=\"14.00\" fill=\"#000000\">gini = 0.0</text>\n<text text-anchor=\"start\" x=\"377.5\" y=\"-639.3\" font-family=\"Helvetica,sans-Serif\" font-size=\"14.00\" fill=\"#000000\">samples = 8</text>\n<text text-anchor=\"start\" x=\"371.5\" y=\"-624.3\" font-family=\"Helvetica,sans-Serif\" font-size=\"14.00\" fill=\"#000000\">value = [0, 17]</text>\n</g>\n<!-- 0&#45;&gt;26 -->\n<g id=\"edge26\" class=\"edge\">\n<title>0&#45;&gt;26</title>\n<path fill=\"none\" stroke=\"#000000\" d=\"M370.5932,-712.9465C378.0473,-701.7113 386.3467,-689.2021 393.8423,-677.9043\"/>\n<polygon fill=\"#000000\" stroke=\"#000000\" points=\"396.7782,-679.81 399.3903,-669.5422 390.9453,-675.94 396.7782,-679.81\"/>\n<text text-anchor=\"middle\" x=\"404.3477\" y=\"-690.3457\" font-family=\"Helvetica,sans-Serif\" font-size=\"14.00\" fill=\"#000000\">False</text>\n</g>\n<!-- 2 -->\n<g id=\"node3\" class=\"node\">\n<title>2</title>\n<path fill=\"#399de5\" stroke=\"#000000\" d=\"M249.5,-565.5C249.5,-565.5 174.5,-565.5 174.5,-565.5 168.5,-565.5 162.5,-559.5 162.5,-553.5 162.5,-553.5 162.5,-524.5 162.5,-524.5 162.5,-518.5 168.5,-512.5 174.5,-512.5 174.5,-512.5 249.5,-512.5 249.5,-512.5 255.5,-512.5 261.5,-518.5 261.5,-524.5 261.5,-524.5 261.5,-553.5 261.5,-553.5 261.5,-559.5 255.5,-565.5 249.5,-565.5\"/>\n<text text-anchor=\"start\" x=\"182.5\" y=\"-550.3\" font-family=\"Helvetica,sans-Serif\" font-size=\"14.00\" fill=\"#000000\">gini = 0.0</text>\n<text text-anchor=\"start\" x=\"172.5\" y=\"-535.3\" font-family=\"Helvetica,sans-Serif\" font-size=\"14.00\" fill=\"#000000\">samples = 6</text>\n<text text-anchor=\"start\" x=\"170.5\" y=\"-520.3\" font-family=\"Helvetica,sans-Serif\" font-size=\"14.00\" fill=\"#000000\">value = [0, 8]</text>\n</g>\n<!-- 1&#45;&gt;2 -->\n<g id=\"edge2\" class=\"edge\">\n<title>1&#45;&gt;2</title>\n<path fill=\"none\" stroke=\"#000000\" d=\"M257.0617,-608.9465C249.8946,-597.8215 241.9227,-585.4473 234.7007,-574.237\"/>\n<polygon fill=\"#000000\" stroke=\"#000000\" points=\"237.4574,-572.0532 229.0993,-565.5422 231.5728,-575.8442 237.4574,-572.0532\"/>\n</g>\n<!-- 3 -->\n<g id=\"node4\" class=\"node\">\n<title>3</title>\n<path fill=\"#fefeff\" stroke=\"#000000\" d=\"M400,-573C400,-573 292,-573 292,-573 286,-573 280,-567 280,-561 280,-561 280,-517 280,-517 280,-511 286,-505 292,-505 292,-505 400,-505 400,-505 406,-505 412,-511 412,-517 412,-517 412,-561 412,-561 412,-567 406,-573 400,-573\"/>\n<text text-anchor=\"start\" x=\"302\" y=\"-557.8\" font-family=\"Helvetica,sans-Serif\" font-size=\"14.00\" fill=\"#000000\">Low ≤ 36.756</text>\n<text text-anchor=\"start\" x=\"316.5\" y=\"-542.8\" font-family=\"Helvetica,sans-Serif\" font-size=\"14.00\" fill=\"#000000\">gini = 0.5</text>\n<text text-anchor=\"start\" x=\"298\" y=\"-527.8\" font-family=\"Helvetica,sans-Serif\" font-size=\"14.00\" fill=\"#000000\">samples = 494</text>\n<text text-anchor=\"start\" x=\"288\" y=\"-512.8\" font-family=\"Helvetica,sans-Serif\" font-size=\"14.00\" fill=\"#000000\">value = [343, 345]</text>\n</g>\n<!-- 1&#45;&gt;3 -->\n<g id=\"edge3\" class=\"edge\">\n<title>1&#45;&gt;3</title>\n<path fill=\"none\" stroke=\"#000000\" d=\"M300.9383,-608.9465C306.549,-600.2373 312.6529,-590.7626 318.5042,-581.6801\"/>\n<polygon fill=\"#000000\" stroke=\"#000000\" points=\"321.5389,-583.4321 324.0124,-573.13 315.6543,-579.641 321.5389,-583.4321\"/>\n</g>\n<!-- 4 -->\n<g id=\"node5\" class=\"node\">\n<title>4</title>\n<path fill=\"#f9e3d3\" stroke=\"#000000\" d=\"M325,-469C325,-469 217,-469 217,-469 211,-469 205,-463 205,-457 205,-457 205,-413 205,-413 205,-407 211,-401 217,-401 217,-401 325,-401 325,-401 331,-401 337,-407 337,-413 337,-413 337,-457 337,-457 337,-463 331,-469 325,-469\"/>\n<text text-anchor=\"start\" x=\"222\" y=\"-453.8\" font-family=\"Helvetica,sans-Serif\" font-size=\"14.00\" fill=\"#000000\">Close ≤ 35.309</text>\n<text text-anchor=\"start\" x=\"233\" y=\"-438.8\" font-family=\"Helvetica,sans-Serif\" font-size=\"14.00\" fill=\"#000000\">gini = 0.492</text>\n<text text-anchor=\"start\" x=\"223\" y=\"-423.8\" font-family=\"Helvetica,sans-Serif\" font-size=\"14.00\" fill=\"#000000\">samples = 217</text>\n<text text-anchor=\"start\" x=\"213\" y=\"-408.8\" font-family=\"Helvetica,sans-Serif\" font-size=\"14.00\" fill=\"#000000\">value = [172, 134]</text>\n</g>\n<!-- 3&#45;&gt;4 -->\n<g id=\"edge4\" class=\"edge\">\n<title>3&#45;&gt;4</title>\n<path fill=\"none\" stroke=\"#000000\" d=\"M321.4422,-504.9465C315.0968,-496.1475 308.1879,-486.5672 301.5764,-477.3993\"/>\n<polygon fill=\"#000000\" stroke=\"#000000\" points=\"304.3011,-475.1937 295.613,-469.13 298.6234,-479.2882 304.3011,-475.1937\"/>\n</g>\n<!-- 13 -->\n<g id=\"node14\" class=\"node\">\n<title>13</title>\n<path fill=\"#d9ecfa\" stroke=\"#000000\" d=\"M475,-469C475,-469 367,-469 367,-469 361,-469 355,-463 355,-457 355,-457 355,-413 355,-413 355,-407 361,-401 367,-401 367,-401 475,-401 475,-401 481,-401 487,-407 487,-413 487,-413 487,-457 487,-457 487,-463 481,-469 475,-469\"/>\n<text text-anchor=\"start\" x=\"372\" y=\"-453.8\" font-family=\"Helvetica,sans-Serif\" font-size=\"14.00\" fill=\"#000000\">Close ≤ 38.466</text>\n<text text-anchor=\"start\" x=\"383\" y=\"-438.8\" font-family=\"Helvetica,sans-Serif\" font-size=\"14.00\" fill=\"#000000\">gini = 0.495</text>\n<text text-anchor=\"start\" x=\"373\" y=\"-423.8\" font-family=\"Helvetica,sans-Serif\" font-size=\"14.00\" fill=\"#000000\">samples = 277</text>\n<text text-anchor=\"start\" x=\"363\" y=\"-408.8\" font-family=\"Helvetica,sans-Serif\" font-size=\"14.00\" fill=\"#000000\">value = [171, 211]</text>\n</g>\n<!-- 3&#45;&gt;13 -->\n<g id=\"edge13\" class=\"edge\">\n<title>3&#45;&gt;13</title>\n<path fill=\"none\" stroke=\"#000000\" d=\"M370.5578,-504.9465C376.9032,-496.1475 383.8121,-486.5672 390.4236,-477.3993\"/>\n<polygon fill=\"#000000\" stroke=\"#000000\" points=\"393.3766,-479.2882 396.387,-469.13 387.6989,-475.1937 393.3766,-479.2882\"/>\n</g>\n<!-- 5 -->\n<g id=\"node6\" class=\"node\">\n<title>5</title>\n<path fill=\"#fdf4ee\" stroke=\"#000000\" d=\"M196,-365C196,-365 88,-365 88,-365 82,-365 76,-359 76,-353 76,-353 76,-309 76,-309 76,-303 82,-297 88,-297 88,-297 196,-297 196,-297 202,-297 208,-303 208,-309 208,-309 208,-353 208,-353 208,-359 202,-365 196,-365\"/>\n<text text-anchor=\"start\" x=\"96.5\" y=\"-349.8\" font-family=\"Helvetica,sans-Serif\" font-size=\"14.00\" fill=\"#000000\">High ≤ 35.054</text>\n<text text-anchor=\"start\" x=\"104\" y=\"-334.8\" font-family=\"Helvetica,sans-Serif\" font-size=\"14.00\" fill=\"#000000\">gini = 0.499</text>\n<text text-anchor=\"start\" x=\"94\" y=\"-319.8\" font-family=\"Helvetica,sans-Serif\" font-size=\"14.00\" fill=\"#000000\">samples = 194</text>\n<text text-anchor=\"start\" x=\"84\" y=\"-304.8\" font-family=\"Helvetica,sans-Serif\" font-size=\"14.00\" fill=\"#000000\">value = [142, 130]</text>\n</g>\n<!-- 4&#45;&gt;5 -->\n<g id=\"edge5\" class=\"edge\">\n<title>4&#45;&gt;5</title>\n<path fill=\"none\" stroke=\"#000000\" d=\"M228.7606,-400.9465C217.0669,-391.519 204.2606,-381.1946 192.163,-371.4415\"/>\n<polygon fill=\"#000000\" stroke=\"#000000\" points=\"194.3162,-368.6816 184.3343,-365.13 189.9227,-374.1312 194.3162,-368.6816\"/>\n</g>\n<!-- 12 -->\n<g id=\"node13\" class=\"node\">\n<title>12</title>\n<path fill=\"#e89253\" stroke=\"#000000\" d=\"M321.5,-357.5C321.5,-357.5 238.5,-357.5 238.5,-357.5 232.5,-357.5 226.5,-351.5 226.5,-345.5 226.5,-345.5 226.5,-316.5 226.5,-316.5 226.5,-310.5 232.5,-304.5 238.5,-304.5 238.5,-304.5 321.5,-304.5 321.5,-304.5 327.5,-304.5 333.5,-310.5 333.5,-316.5 333.5,-316.5 333.5,-345.5 333.5,-345.5 333.5,-351.5 327.5,-357.5 321.5,-357.5\"/>\n<text text-anchor=\"start\" x=\"242\" y=\"-342.3\" font-family=\"Helvetica,sans-Serif\" font-size=\"14.00\" fill=\"#000000\">gini = 0.208</text>\n<text text-anchor=\"start\" x=\"236\" y=\"-327.3\" font-family=\"Helvetica,sans-Serif\" font-size=\"14.00\" fill=\"#000000\">samples = 23</text>\n<text text-anchor=\"start\" x=\"234.5\" y=\"-312.3\" font-family=\"Helvetica,sans-Serif\" font-size=\"14.00\" fill=\"#000000\">value = [30, 4]</text>\n</g>\n<!-- 4&#45;&gt;12 -->\n<g id=\"edge12\" class=\"edge\">\n<title>4&#45;&gt;12</title>\n<path fill=\"none\" stroke=\"#000000\" d=\"M273.9469,-400.9465C274.8716,-390.2621 275.8959,-378.4254 276.8349,-367.5742\"/>\n<polygon fill=\"#000000\" stroke=\"#000000\" points=\"280.3278,-367.8067 277.7031,-357.5422 273.3539,-367.2031 280.3278,-367.8067\"/>\n</g>\n<!-- 6 -->\n<g id=\"node7\" class=\"node\">\n<title>6</title>\n<path fill=\"#fcf0e7\" stroke=\"#000000\" d=\"M182,-261C182,-261 74,-261 74,-261 68,-261 62,-255 62,-249 62,-249 62,-205 62,-205 62,-199 68,-193 74,-193 74,-193 182,-193 182,-193 188,-193 194,-199 194,-205 194,-205 194,-249 194,-249 194,-255 188,-261 182,-261\"/>\n<text text-anchor=\"start\" x=\"91\" y=\"-245.8\" font-family=\"Helvetica,sans-Serif\" font-size=\"14.00\" fill=\"#000000\">PER ≤ 9.82</text>\n<text text-anchor=\"start\" x=\"90\" y=\"-230.8\" font-family=\"Helvetica,sans-Serif\" font-size=\"14.00\" fill=\"#000000\">gini = 0.498</text>\n<text text-anchor=\"start\" x=\"80\" y=\"-215.8\" font-family=\"Helvetica,sans-Serif\" font-size=\"14.00\" fill=\"#000000\">samples = 189</text>\n<text text-anchor=\"start\" x=\"70\" y=\"-200.8\" font-family=\"Helvetica,sans-Serif\" font-size=\"14.00\" fill=\"#000000\">value = [142, 125]</text>\n</g>\n<!-- 5&#45;&gt;6 -->\n<g id=\"edge6\" class=\"edge\">\n<title>5&#45;&gt;6</title>\n<path fill=\"none\" stroke=\"#000000\" d=\"M137.4159,-296.9465C136.3039,-288.6863 135.0993,-279.7374 133.9349,-271.0875\"/>\n<polygon fill=\"#000000\" stroke=\"#000000\" points=\"137.3973,-270.5736 132.5944,-261.13 130.4599,-271.5076 137.3973,-270.5736\"/>\n</g>\n<!-- 11 -->\n<g id=\"node12\" class=\"node\">\n<title>11</title>\n<path fill=\"#399de5\" stroke=\"#000000\" d=\"M299.5,-253.5C299.5,-253.5 224.5,-253.5 224.5,-253.5 218.5,-253.5 212.5,-247.5 212.5,-241.5 212.5,-241.5 212.5,-212.5 212.5,-212.5 212.5,-206.5 218.5,-200.5 224.5,-200.5 224.5,-200.5 299.5,-200.5 299.5,-200.5 305.5,-200.5 311.5,-206.5 311.5,-212.5 311.5,-212.5 311.5,-241.5 311.5,-241.5 311.5,-247.5 305.5,-253.5 299.5,-253.5\"/>\n<text text-anchor=\"start\" x=\"232.5\" y=\"-238.3\" font-family=\"Helvetica,sans-Serif\" font-size=\"14.00\" fill=\"#000000\">gini = 0.0</text>\n<text text-anchor=\"start\" x=\"222.5\" y=\"-223.3\" font-family=\"Helvetica,sans-Serif\" font-size=\"14.00\" fill=\"#000000\">samples = 5</text>\n<text text-anchor=\"start\" x=\"220.5\" y=\"-208.3\" font-family=\"Helvetica,sans-Serif\" font-size=\"14.00\" fill=\"#000000\">value = [0, 5]</text>\n</g>\n<!-- 5&#45;&gt;11 -->\n<g id=\"edge11\" class=\"edge\">\n<title>5&#45;&gt;11</title>\n<path fill=\"none\" stroke=\"#000000\" d=\"M181.2925,-296.9465C194.8917,-285.1606 210.1085,-271.9726 223.6324,-260.2519\"/>\n<polygon fill=\"#000000\" stroke=\"#000000\" points=\"226.1098,-262.7364 231.3744,-253.5422 221.5252,-257.4466 226.1098,-262.7364\"/>\n</g>\n<!-- 7 -->\n<g id=\"node8\" class=\"node\">\n<title>7</title>\n<path fill=\"#fbebdf\" stroke=\"#000000\" d=\"M120,-157C120,-157 12,-157 12,-157 6,-157 0,-151 0,-145 0,-145 0,-101 0,-101 0,-95 6,-89 12,-89 12,-89 120,-89 120,-89 126,-89 132,-95 132,-101 132,-101 132,-145 132,-145 132,-151 126,-157 120,-157\"/>\n<text text-anchor=\"start\" x=\"22\" y=\"-141.8\" font-family=\"Helvetica,sans-Serif\" font-size=\"14.00\" fill=\"#000000\">Low ≤ 28.979</text>\n<text text-anchor=\"start\" x=\"28\" y=\"-126.8\" font-family=\"Helvetica,sans-Serif\" font-size=\"14.00\" fill=\"#000000\">gini = 0.496</text>\n<text text-anchor=\"start\" x=\"18\" y=\"-111.8\" font-family=\"Helvetica,sans-Serif\" font-size=\"14.00\" fill=\"#000000\">samples = 183</text>\n<text text-anchor=\"start\" x=\"8\" y=\"-96.8\" font-family=\"Helvetica,sans-Serif\" font-size=\"14.00\" fill=\"#000000\">value = [142, 119]</text>\n</g>\n<!-- 6&#45;&gt;7 -->\n<g id=\"edge7\" class=\"edge\">\n<title>6&#45;&gt;7</title>\n<path fill=\"none\" stroke=\"#000000\" d=\"M107.6989,-192.9465C102.5604,-184.3271 96.9749,-174.9579 91.6114,-165.9611\"/>\n<polygon fill=\"#000000\" stroke=\"#000000\" points=\"94.4737,-163.9272 86.3467,-157.13 88.4611,-167.5117 94.4737,-163.9272\"/>\n</g>\n<!-- 10 -->\n<g id=\"node11\" class=\"node\">\n<title>10</title>\n<path fill=\"#399de5\" stroke=\"#000000\" d=\"M237.5,-149.5C237.5,-149.5 162.5,-149.5 162.5,-149.5 156.5,-149.5 150.5,-143.5 150.5,-137.5 150.5,-137.5 150.5,-108.5 150.5,-108.5 150.5,-102.5 156.5,-96.5 162.5,-96.5 162.5,-96.5 237.5,-96.5 237.5,-96.5 243.5,-96.5 249.5,-102.5 249.5,-108.5 249.5,-108.5 249.5,-137.5 249.5,-137.5 249.5,-143.5 243.5,-149.5 237.5,-149.5\"/>\n<text text-anchor=\"start\" x=\"170.5\" y=\"-134.3\" font-family=\"Helvetica,sans-Serif\" font-size=\"14.00\" fill=\"#000000\">gini = 0.0</text>\n<text text-anchor=\"start\" x=\"160.5\" y=\"-119.3\" font-family=\"Helvetica,sans-Serif\" font-size=\"14.00\" fill=\"#000000\">samples = 6</text>\n<text text-anchor=\"start\" x=\"158.5\" y=\"-104.3\" font-family=\"Helvetica,sans-Serif\" font-size=\"14.00\" fill=\"#000000\">value = [0, 6]</text>\n</g>\n<!-- 6&#45;&gt;10 -->\n<g id=\"edge10\" class=\"edge\">\n<title>6&#45;&gt;10</title>\n<path fill=\"none\" stroke=\"#000000\" d=\"M151.5755,-192.9465C159.3537,-181.7113 168.0139,-169.2021 175.8355,-157.9043\"/>\n<polygon fill=\"#000000\" stroke=\"#000000\" points=\"178.8102,-159.7564 181.6247,-149.5422 173.0548,-155.7719 178.8102,-159.7564\"/>\n</g>\n<!-- 8 -->\n<g id=\"node9\" class=\"node\">\n<title>8</title>\n<path fill=\"#fbfdfe\" stroke=\"#000000\" d=\"M109,-53C109,-53 17,-53 17,-53 11,-53 5,-47 5,-41 5,-41 5,-12 5,-12 5,-6 11,0 17,0 17,0 109,0 109,0 115,0 121,-6 121,-12 121,-12 121,-41 121,-41 121,-47 115,-53 109,-53\"/>\n<text text-anchor=\"start\" x=\"33.5\" y=\"-37.8\" font-family=\"Helvetica,sans-Serif\" font-size=\"14.00\" fill=\"#000000\">gini = 0.5</text>\n<text text-anchor=\"start\" x=\"15\" y=\"-22.8\" font-family=\"Helvetica,sans-Serif\" font-size=\"14.00\" fill=\"#000000\">samples = 136</text>\n<text text-anchor=\"start\" x=\"13\" y=\"-7.8\" font-family=\"Helvetica,sans-Serif\" font-size=\"14.00\" fill=\"#000000\">value = [95, 97]</text>\n</g>\n<!-- 7&#45;&gt;8 -->\n<g id=\"edge8\" class=\"edge\">\n<title>7&#45;&gt;8</title>\n<path fill=\"none\" stroke=\"#000000\" d=\"M64.9423,-88.9777C64.6861,-80.7364 64.411,-71.887 64.1507,-63.5153\"/>\n<polygon fill=\"#000000\" stroke=\"#000000\" points=\"67.6407,-63.1349 63.8316,-53.2485 60.6441,-63.3524 67.6407,-63.1349\"/>\n</g>\n<!-- 9 -->\n<g id=\"node10\" class=\"node\">\n<title>9</title>\n<path fill=\"#f1bc96\" stroke=\"#000000\" d=\"M243,-53C243,-53 151,-53 151,-53 145,-53 139,-47 139,-41 139,-41 139,-12 139,-12 139,-6 145,0 151,0 151,0 243,0 243,0 249,0 255,-6 255,-12 255,-12 255,-41 255,-41 255,-47 249,-53 243,-53\"/>\n<text text-anchor=\"start\" x=\"159\" y=\"-37.8\" font-family=\"Helvetica,sans-Serif\" font-size=\"14.00\" fill=\"#000000\">gini = 0.434</text>\n<text text-anchor=\"start\" x=\"153\" y=\"-22.8\" font-family=\"Helvetica,sans-Serif\" font-size=\"14.00\" fill=\"#000000\">samples = 47</text>\n<text text-anchor=\"start\" x=\"147\" y=\"-7.8\" font-family=\"Helvetica,sans-Serif\" font-size=\"14.00\" fill=\"#000000\">value = [47, 22]</text>\n</g>\n<!-- 7&#45;&gt;9 -->\n<g id=\"edge9\" class=\"edge\">\n<title>7&#45;&gt;9</title>\n<path fill=\"none\" stroke=\"#000000\" d=\"M112.1857,-88.9777C125.2379,-79.3629 139.4139,-68.9203 152.3727,-59.3743\"/>\n<polygon fill=\"#000000\" stroke=\"#000000\" points=\"154.7131,-61.9974 160.6886,-53.2485 150.5614,-56.3615 154.7131,-61.9974\"/>\n</g>\n<!-- 14 -->\n<g id=\"node15\" class=\"node\">\n<title>14</title>\n<path fill=\"#4ea7e8\" stroke=\"#000000\" d=\"M453.5,-357.5C453.5,-357.5 370.5,-357.5 370.5,-357.5 364.5,-357.5 358.5,-351.5 358.5,-345.5 358.5,-345.5 358.5,-316.5 358.5,-316.5 358.5,-310.5 364.5,-304.5 370.5,-304.5 370.5,-304.5 453.5,-304.5 453.5,-304.5 459.5,-304.5 465.5,-310.5 465.5,-316.5 465.5,-316.5 465.5,-345.5 465.5,-345.5 465.5,-351.5 459.5,-357.5 453.5,-357.5\"/>\n<text text-anchor=\"start\" x=\"374\" y=\"-342.3\" font-family=\"Helvetica,sans-Serif\" font-size=\"14.00\" fill=\"#000000\">gini = 0.172</text>\n<text text-anchor=\"start\" x=\"368\" y=\"-327.3\" font-family=\"Helvetica,sans-Serif\" font-size=\"14.00\" fill=\"#000000\">samples = 14</text>\n<text text-anchor=\"start\" x=\"366.5\" y=\"-312.3\" font-family=\"Helvetica,sans-Serif\" font-size=\"14.00\" fill=\"#000000\">value = [2, 19]</text>\n</g>\n<!-- 13&#45;&gt;14 -->\n<g id=\"edge14\" class=\"edge\">\n<title>13&#45;&gt;14</title>\n<path fill=\"none\" stroke=\"#000000\" d=\"M418.0531,-400.9465C417.1284,-390.2621 416.1041,-378.4254 415.1651,-367.5742\"/>\n<polygon fill=\"#000000\" stroke=\"#000000\" points=\"418.6461,-367.2031 414.2969,-357.5422 411.6722,-367.8067 418.6461,-367.2031\"/>\n</g>\n<!-- 15 -->\n<g id=\"node16\" class=\"node\">\n<title>15</title>\n<path fill=\"#e7f3fc\" stroke=\"#000000\" d=\"M604,-365C604,-365 496,-365 496,-365 490,-365 484,-359 484,-353 484,-353 484,-309 484,-309 484,-303 490,-297 496,-297 496,-297 604,-297 604,-297 610,-297 616,-303 616,-309 616,-309 616,-353 616,-353 616,-359 610,-365 604,-365\"/>\n<text text-anchor=\"start\" x=\"504.5\" y=\"-349.8\" font-family=\"Helvetica,sans-Serif\" font-size=\"14.00\" fill=\"#000000\">PER ≤ 14.577</text>\n<text text-anchor=\"start\" x=\"512\" y=\"-334.8\" font-family=\"Helvetica,sans-Serif\" font-size=\"14.00\" fill=\"#000000\">gini = 0.498</text>\n<text text-anchor=\"start\" x=\"502\" y=\"-319.8\" font-family=\"Helvetica,sans-Serif\" font-size=\"14.00\" fill=\"#000000\">samples = 263</text>\n<text text-anchor=\"start\" x=\"492\" y=\"-304.8\" font-family=\"Helvetica,sans-Serif\" font-size=\"14.00\" fill=\"#000000\">value = [169, 192]</text>\n</g>\n<!-- 13&#45;&gt;15 -->\n<g id=\"edge15\" class=\"edge\">\n<title>13&#45;&gt;15</title>\n<path fill=\"none\" stroke=\"#000000\" d=\"M463.2394,-400.9465C474.9331,-391.519 487.7394,-381.1946 499.837,-371.4415\"/>\n<polygon fill=\"#000000\" stroke=\"#000000\" points=\"502.0773,-374.1312 507.6657,-365.13 497.6838,-368.6816 502.0773,-374.1312\"/>\n</g>\n<!-- 16 -->\n<g id=\"node17\" class=\"node\">\n<title>16</title>\n<path fill=\"#cee7f9\" stroke=\"#000000\" d=\"M528,-261C528,-261 400,-261 400,-261 394,-261 388,-255 388,-249 388,-249 388,-205 388,-205 388,-199 394,-193 400,-193 400,-193 528,-193 528,-193 534,-193 540,-199 540,-205 540,-205 540,-249 540,-249 540,-255 534,-261 528,-261\"/>\n<text text-anchor=\"start\" x=\"396\" y=\"-245.8\" font-family=\"Helvetica,sans-Serif\" font-size=\"14.00\" fill=\"#000000\">Wiki_move ≤ &#45;3533.0</text>\n<text text-anchor=\"start\" x=\"430.5\" y=\"-230.8\" font-family=\"Helvetica,sans-Serif\" font-size=\"14.00\" fill=\"#000000\">gini = 0.49</text>\n<text text-anchor=\"start\" x=\"416\" y=\"-215.8\" font-family=\"Helvetica,sans-Serif\" font-size=\"14.00\" fill=\"#000000\">samples = 222</text>\n<text text-anchor=\"start\" x=\"406\" y=\"-200.8\" font-family=\"Helvetica,sans-Serif\" font-size=\"14.00\" fill=\"#000000\">value = [132, 175]</text>\n</g>\n<!-- 15&#45;&gt;16 -->\n<g id=\"edge16\" class=\"edge\">\n<title>15&#45;&gt;16</title>\n<path fill=\"none\" stroke=\"#000000\" d=\"M521.8404,-296.9465C514.4158,-287.968 506.3185,-278.1758 498.5972,-268.8385\"/>\n<polygon fill=\"#000000\" stroke=\"#000000\" points=\"501.2928,-266.606 492.2229,-261.13 495.8983,-271.0669 501.2928,-266.606\"/>\n</g>\n<!-- 21 -->\n<g id=\"node22\" class=\"node\">\n<title>21</title>\n<path fill=\"#f1bb94\" stroke=\"#000000\" d=\"M662,-261C662,-261 570,-261 570,-261 564,-261 558,-255 558,-249 558,-249 558,-205 558,-205 558,-199 564,-193 570,-193 570,-193 662,-193 662,-193 668,-193 674,-199 674,-205 674,-205 674,-249 674,-249 674,-255 668,-261 662,-261\"/>\n<text text-anchor=\"start\" x=\"567.5\" y=\"-245.8\" font-family=\"Helvetica,sans-Serif\" font-size=\"14.00\" fill=\"#000000\">Open ≤ 66.171</text>\n<text text-anchor=\"start\" x=\"578\" y=\"-230.8\" font-family=\"Helvetica,sans-Serif\" font-size=\"14.00\" fill=\"#000000\">gini = 0.431</text>\n<text text-anchor=\"start\" x=\"572\" y=\"-215.8\" font-family=\"Helvetica,sans-Serif\" font-size=\"14.00\" fill=\"#000000\">samples = 41</text>\n<text text-anchor=\"start\" x=\"566\" y=\"-200.8\" font-family=\"Helvetica,sans-Serif\" font-size=\"14.00\" fill=\"#000000\">value = [37, 17]</text>\n</g>\n<!-- 15&#45;&gt;21 -->\n<g id=\"edge21\" class=\"edge\">\n<title>15&#45;&gt;21</title>\n<path fill=\"none\" stroke=\"#000000\" d=\"M571.6109,-296.9465C577.1378,-288.2373 583.1506,-278.7626 588.9146,-269.6801\"/>\n<polygon fill=\"#000000\" stroke=\"#000000\" points=\"591.9374,-271.4487 594.3406,-261.13 586.0271,-267.6979 591.9374,-271.4487\"/>\n</g>\n<!-- 17 -->\n<g id=\"node18\" class=\"node\">\n<title>17</title>\n<path fill=\"#e58139\" stroke=\"#000000\" d=\"M357.5,-149.5C357.5,-149.5 282.5,-149.5 282.5,-149.5 276.5,-149.5 270.5,-143.5 270.5,-137.5 270.5,-137.5 270.5,-108.5 270.5,-108.5 270.5,-102.5 276.5,-96.5 282.5,-96.5 282.5,-96.5 357.5,-96.5 357.5,-96.5 363.5,-96.5 369.5,-102.5 369.5,-108.5 369.5,-108.5 369.5,-137.5 369.5,-137.5 369.5,-143.5 363.5,-149.5 357.5,-149.5\"/>\n<text text-anchor=\"start\" x=\"290.5\" y=\"-134.3\" font-family=\"Helvetica,sans-Serif\" font-size=\"14.00\" fill=\"#000000\">gini = 0.0</text>\n<text text-anchor=\"start\" x=\"280.5\" y=\"-119.3\" font-family=\"Helvetica,sans-Serif\" font-size=\"14.00\" fill=\"#000000\">samples = 3</text>\n<text text-anchor=\"start\" x=\"278.5\" y=\"-104.3\" font-family=\"Helvetica,sans-Serif\" font-size=\"14.00\" fill=\"#000000\">value = [5, 0]</text>\n</g>\n<!-- 16&#45;&gt;17 -->\n<g id=\"edge17\" class=\"edge\">\n<title>16&#45;&gt;17</title>\n<path fill=\"none\" stroke=\"#000000\" d=\"M416.849,-192.9465C400.225,-180.9403 381.5865,-167.4791 365.1333,-155.5962\"/>\n<polygon fill=\"#000000\" stroke=\"#000000\" points=\"366.9067,-152.5597 356.7507,-149.5422 362.8083,-158.2345 366.9067,-152.5597\"/>\n</g>\n<!-- 18 -->\n<g id=\"node19\" class=\"node\">\n<title>18</title>\n<path fill=\"#c9e4f8\" stroke=\"#000000\" d=\"M528,-157C528,-157 400,-157 400,-157 394,-157 388,-151 388,-145 388,-145 388,-101 388,-101 388,-95 394,-89 400,-89 400,-89 528,-89 528,-89 534,-89 540,-95 540,-101 540,-101 540,-145 540,-145 540,-151 534,-157 528,-157\"/>\n<text text-anchor=\"start\" x=\"396\" y=\"-141.8\" font-family=\"Helvetica,sans-Serif\" font-size=\"14.00\" fill=\"#000000\">Wiki_move ≤ &#45;1837.0</text>\n<text text-anchor=\"start\" x=\"426\" y=\"-126.8\" font-family=\"Helvetica,sans-Serif\" font-size=\"14.00\" fill=\"#000000\">gini = 0.487</text>\n<text text-anchor=\"start\" x=\"416\" y=\"-111.8\" font-family=\"Helvetica,sans-Serif\" font-size=\"14.00\" fill=\"#000000\">samples = 219</text>\n<text text-anchor=\"start\" x=\"406\" y=\"-96.8\" font-family=\"Helvetica,sans-Serif\" font-size=\"14.00\" fill=\"#000000\">value = [127, 175]</text>\n</g>\n<!-- 16&#45;&gt;18 -->\n<g id=\"edge18\" class=\"edge\">\n<title>16&#45;&gt;18</title>\n<path fill=\"none\" stroke=\"#000000\" d=\"M464,-192.9465C464,-184.776 464,-175.9318 464,-167.3697\"/>\n<polygon fill=\"#000000\" stroke=\"#000000\" points=\"467.5001,-167.13 464,-157.13 460.5001,-167.13 467.5001,-167.13\"/>\n</g>\n<!-- 19 -->\n<g id=\"node20\" class=\"node\">\n<title>19</title>\n<path fill=\"#49a5e7\" stroke=\"#000000\" d=\"M371.5,-53C371.5,-53 288.5,-53 288.5,-53 282.5,-53 276.5,-47 276.5,-41 276.5,-41 276.5,-12 276.5,-12 276.5,-6 282.5,0 288.5,0 288.5,0 371.5,0 371.5,0 377.5,0 383.5,-6 383.5,-12 383.5,-12 383.5,-41 383.5,-41 383.5,-47 377.5,-53 371.5,-53\"/>\n<text text-anchor=\"start\" x=\"292\" y=\"-37.8\" font-family=\"Helvetica,sans-Serif\" font-size=\"14.00\" fill=\"#000000\">gini = 0.142</text>\n<text text-anchor=\"start\" x=\"290.5\" y=\"-22.8\" font-family=\"Helvetica,sans-Serif\" font-size=\"14.00\" fill=\"#000000\">samples = 8</text>\n<text text-anchor=\"start\" x=\"284.5\" y=\"-7.8\" font-family=\"Helvetica,sans-Serif\" font-size=\"14.00\" fill=\"#000000\">value = [1, 12]</text>\n</g>\n<!-- 18&#45;&gt;19 -->\n<g id=\"edge19\" class=\"edge\">\n<title>18&#45;&gt;19</title>\n<path fill=\"none\" stroke=\"#000000\" d=\"M416.7566,-88.9777C403.2783,-79.2713 388.6285,-68.7213 375.2709,-59.1018\"/>\n<polygon fill=\"#000000\" stroke=\"#000000\" points=\"377.3031,-56.2522 367.143,-53.2485 373.2124,-61.9325 377.3031,-56.2522\"/>\n</g>\n<!-- 20 -->\n<g id=\"node21\" class=\"node\">\n<title>20</title>\n<path fill=\"#d2e9f9\" stroke=\"#000000\" d=\"M522,-53C522,-53 414,-53 414,-53 408,-53 402,-47 402,-41 402,-41 402,-12 402,-12 402,-6 408,0 414,0 414,0 522,0 522,0 528,0 534,-6 534,-12 534,-12 534,-41 534,-41 534,-47 528,-53 522,-53\"/>\n<text text-anchor=\"start\" x=\"430\" y=\"-37.8\" font-family=\"Helvetica,sans-Serif\" font-size=\"14.00\" fill=\"#000000\">gini = 0.492</text>\n<text text-anchor=\"start\" x=\"420\" y=\"-22.8\" font-family=\"Helvetica,sans-Serif\" font-size=\"14.00\" fill=\"#000000\">samples = 211</text>\n<text text-anchor=\"start\" x=\"410\" y=\"-7.8\" font-family=\"Helvetica,sans-Serif\" font-size=\"14.00\" fill=\"#000000\">value = [126, 163]</text>\n</g>\n<!-- 18&#45;&gt;20 -->\n<g id=\"edge20\" class=\"edge\">\n<title>18&#45;&gt;20</title>\n<path fill=\"none\" stroke=\"#000000\" d=\"M465.4103,-88.9777C465.7519,-80.7364 466.1187,-71.887 466.4657,-63.5153\"/>\n<polygon fill=\"#000000\" stroke=\"#000000\" points=\"469.974,-63.3849 466.8913,-53.2485 462.98,-63.0949 469.974,-63.3849\"/>\n</g>\n<!-- 22 -->\n<g id=\"node23\" class=\"node\">\n<title>22</title>\n<path fill=\"#f3c4a2\" stroke=\"#000000\" d=\"M662,-157C662,-157 570,-157 570,-157 564,-157 558,-151 558,-145 558,-145 558,-101 558,-101 558,-95 564,-89 570,-89 570,-89 662,-89 662,-89 668,-89 674,-95 674,-101 674,-101 674,-145 674,-145 674,-151 668,-157 662,-157\"/>\n<text text-anchor=\"start\" x=\"570.5\" y=\"-141.8\" font-family=\"Helvetica,sans-Serif\" font-size=\"14.00\" fill=\"#000000\">High ≤ 66.208</text>\n<text text-anchor=\"start\" x=\"578\" y=\"-126.8\" font-family=\"Helvetica,sans-Serif\" font-size=\"14.00\" fill=\"#000000\">gini = 0.453</text>\n<text text-anchor=\"start\" x=\"572\" y=\"-111.8\" font-family=\"Helvetica,sans-Serif\" font-size=\"14.00\" fill=\"#000000\">samples = 36</text>\n<text text-anchor=\"start\" x=\"566\" y=\"-96.8\" font-family=\"Helvetica,sans-Serif\" font-size=\"14.00\" fill=\"#000000\">value = [32, 17]</text>\n</g>\n<!-- 21&#45;&gt;22 -->\n<g id=\"edge22\" class=\"edge\">\n<title>21&#45;&gt;22</title>\n<path fill=\"none\" stroke=\"#000000\" d=\"M616,-192.9465C616,-184.776 616,-175.9318 616,-167.3697\"/>\n<polygon fill=\"#000000\" stroke=\"#000000\" points=\"619.5001,-167.13 616,-157.13 612.5001,-167.13 619.5001,-167.13\"/>\n</g>\n<!-- 25 -->\n<g id=\"node26\" class=\"node\">\n<title>25</title>\n<path fill=\"#e58139\" stroke=\"#000000\" d=\"M779.5,-149.5C779.5,-149.5 704.5,-149.5 704.5,-149.5 698.5,-149.5 692.5,-143.5 692.5,-137.5 692.5,-137.5 692.5,-108.5 692.5,-108.5 692.5,-102.5 698.5,-96.5 704.5,-96.5 704.5,-96.5 779.5,-96.5 779.5,-96.5 785.5,-96.5 791.5,-102.5 791.5,-108.5 791.5,-108.5 791.5,-137.5 791.5,-137.5 791.5,-143.5 785.5,-149.5 779.5,-149.5\"/>\n<text text-anchor=\"start\" x=\"712.5\" y=\"-134.3\" font-family=\"Helvetica,sans-Serif\" font-size=\"14.00\" fill=\"#000000\">gini = 0.0</text>\n<text text-anchor=\"start\" x=\"702.5\" y=\"-119.3\" font-family=\"Helvetica,sans-Serif\" font-size=\"14.00\" fill=\"#000000\">samples = 5</text>\n<text text-anchor=\"start\" x=\"700.5\" y=\"-104.3\" font-family=\"Helvetica,sans-Serif\" font-size=\"14.00\" fill=\"#000000\">value = [5, 0]</text>\n</g>\n<!-- 21&#45;&gt;25 -->\n<g id=\"edge25\" class=\"edge\">\n<title>21&#45;&gt;25</title>\n<path fill=\"none\" stroke=\"#000000\" d=\"M657.2571,-192.9465C671.6697,-181.0504 687.8127,-167.726 702.1117,-155.9237\"/>\n<polygon fill=\"#000000\" stroke=\"#000000\" points=\"704.3589,-158.6071 709.8431,-149.5422 699.9029,-153.2086 704.3589,-158.6071\"/>\n</g>\n<!-- 23 -->\n<g id=\"node24\" class=\"node\">\n<title>23</title>\n<path fill=\"#efb083\" stroke=\"#000000\" d=\"M657,-53C657,-53 565,-53 565,-53 559,-53 553,-47 553,-41 553,-41 553,-12 553,-12 553,-6 559,0 565,0 565,0 657,0 657,0 663,0 669,-6 669,-12 669,-12 669,-41 669,-41 669,-47 663,-53 657,-53\"/>\n<text text-anchor=\"start\" x=\"573\" y=\"-37.8\" font-family=\"Helvetica,sans-Serif\" font-size=\"14.00\" fill=\"#000000\">gini = 0.397</text>\n<text text-anchor=\"start\" x=\"567\" y=\"-22.8\" font-family=\"Helvetica,sans-Serif\" font-size=\"14.00\" fill=\"#000000\">samples = 33</text>\n<text text-anchor=\"start\" x=\"561\" y=\"-7.8\" font-family=\"Helvetica,sans-Serif\" font-size=\"14.00\" fill=\"#000000\">value = [32, 12]</text>\n</g>\n<!-- 22&#45;&gt;23 -->\n<g id=\"edge23\" class=\"edge\">\n<title>22&#45;&gt;23</title>\n<path fill=\"none\" stroke=\"#000000\" d=\"M614.2372,-88.9777C613.8054,-80.6449 613.3415,-71.6903 612.9034,-63.2364\"/>\n<polygon fill=\"#000000\" stroke=\"#000000\" points=\"616.3988,-63.0539 612.3859,-53.2485 609.4082,-63.4162 616.3988,-63.0539\"/>\n</g>\n<!-- 24 -->\n<g id=\"node25\" class=\"node\">\n<title>24</title>\n<path fill=\"#399de5\" stroke=\"#000000\" d=\"M774.5,-53C774.5,-53 699.5,-53 699.5,-53 693.5,-53 687.5,-47 687.5,-41 687.5,-41 687.5,-12 687.5,-12 687.5,-6 693.5,0 699.5,0 699.5,0 774.5,0 774.5,0 780.5,0 786.5,-6 786.5,-12 786.5,-12 786.5,-41 786.5,-41 786.5,-47 780.5,-53 774.5,-53\"/>\n<text text-anchor=\"start\" x=\"707.5\" y=\"-37.8\" font-family=\"Helvetica,sans-Serif\" font-size=\"14.00\" fill=\"#000000\">gini = 0.0</text>\n<text text-anchor=\"start\" x=\"697.5\" y=\"-22.8\" font-family=\"Helvetica,sans-Serif\" font-size=\"14.00\" fill=\"#000000\">samples = 3</text>\n<text text-anchor=\"start\" x=\"695.5\" y=\"-7.8\" font-family=\"Helvetica,sans-Serif\" font-size=\"14.00\" fill=\"#000000\">value = [0, 5]</text>\n</g>\n<!-- 22&#45;&gt;24 -->\n<g id=\"edge24\" class=\"edge\">\n<title>22&#45;&gt;24</title>\n<path fill=\"none\" stroke=\"#000000\" d=\"M658.6601,-88.9777C670.6011,-79.4545 683.5605,-69.1191 695.437,-59.6473\"/>\n<polygon fill=\"#000000\" stroke=\"#000000\" points=\"697.8246,-62.22 703.4605,-53.2485 693.46,-56.7473 697.8246,-62.22\"/>\n</g>\n</g>\n</svg>\n"
          },
          "metadata": {
            "tags": []
          },
          "execution_count": 854
        }
      ]
    },
    {
      "cell_type": "code",
      "metadata": {
        "id": "9-JoB51wGLA0",
        "colab_type": "code",
        "colab": {}
      },
      "source": [
        "from sklearn.pipeline import make_pipeline\n",
        "from sklearn.preprocessing import StandardScaler"
      ],
      "execution_count": 855,
      "outputs": []
    },
    {
      "cell_type": "code",
      "metadata": {
        "id": "_FMt2DPlHZv7",
        "colab_type": "code",
        "colab": {}
      },
      "source": [
        "clf = make_pipeline(StandardScaler(), SVC(gamma=\"scale\",kernel=\"rbf\",C=2))"
      ],
      "execution_count": 1138,
      "outputs": []
    },
    {
      "cell_type": "code",
      "metadata": {
        "id": "ecqFz5Y9I0Tt",
        "colab_type": "code",
        "colab": {
          "base_uri": "https://localhost:8080/",
          "height": 187
        },
        "outputId": "fbb41bbd-81b9-49c8-84dc-659d99d0ea84"
      },
      "source": [
        "clf.fit(X_train,Y_train)"
      ],
      "execution_count": 1139,
      "outputs": [
        {
          "output_type": "execute_result",
          "data": {
            "text/plain": [
              "Pipeline(memory=None,\n",
              "         steps=[('standardscaler',\n",
              "                 StandardScaler(copy=True, with_mean=True, with_std=True)),\n",
              "                ('svc',\n",
              "                 SVC(C=2, break_ties=False, cache_size=200, class_weight=None,\n",
              "                     coef0=0.0, decision_function_shape='ovr', degree=3,\n",
              "                     gamma='scale', kernel='rbf', max_iter=-1,\n",
              "                     probability=False, random_state=None, shrinking=True,\n",
              "                     tol=0.001, verbose=False))],\n",
              "         verbose=False)"
            ]
          },
          "metadata": {
            "tags": []
          },
          "execution_count": 1139
        }
      ]
    },
    {
      "cell_type": "code",
      "metadata": {
        "id": "uIQc4FiOI9cr",
        "colab_type": "code",
        "colab": {
          "base_uri": "https://localhost:8080/",
          "height": 34
        },
        "outputId": "2196993e-3bb6-4d60-a7ce-5a31792bdd13"
      },
      "source": [
        "clf.score(X_train,Y_train)"
      ],
      "execution_count": 1140,
      "outputs": [
        {
          "output_type": "execute_result",
          "data": {
            "text/plain": [
              "0.5550098231827112"
            ]
          },
          "metadata": {
            "tags": []
          },
          "execution_count": 1140
        }
      ]
    },
    {
      "cell_type": "code",
      "metadata": {
        "id": "pJGvIzYHJDiT",
        "colab_type": "code",
        "colab": {
          "base_uri": "https://localhost:8080/",
          "height": 34
        },
        "outputId": "8615e01c-cda0-483f-be5a-af9f8fe60528"
      },
      "source": [
        "clf.score(X_test,Y_test)"
      ],
      "execution_count": 1141,
      "outputs": [
        {
          "output_type": "execute_result",
          "data": {
            "text/plain": [
              "0.5701754385964912"
            ]
          },
          "metadata": {
            "tags": []
          },
          "execution_count": 1141
        }
      ]
    },
    {
      "cell_type": "code",
      "metadata": {
        "id": "vXSisljpnhSB",
        "colab_type": "code",
        "colab": {}
      },
      "source": [
        ""
      ],
      "execution_count": 647,
      "outputs": []
    },
    {
      "cell_type": "code",
      "metadata": {
        "id": "6rMFV5BsJGzb",
        "colab_type": "code",
        "colab": {}
      },
      "source": [
        ""
      ],
      "execution_count": 498,
      "outputs": []
    }
  ]
}